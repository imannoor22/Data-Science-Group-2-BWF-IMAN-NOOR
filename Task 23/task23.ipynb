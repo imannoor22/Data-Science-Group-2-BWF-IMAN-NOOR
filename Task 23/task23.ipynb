{
 "cells": [
  {
   "cell_type": "markdown",
   "id": "52cb70b8",
   "metadata": {},
   "source": [
    "# Iman Noor\n",
    "---\n",
    "\n",
    "# **Regression Models using scikit-learn**\n",
    "\n",
    "- Regression models in `scikit-learn` are used to predict continuous `outcomes` based on input features. \n",
    "- Scikit-learn provides a simple and efficient way to implement these models with methods for `fitting`, `predicting` and `evaluating` the model performance. \n",
    "- **Key features** include handling `missing values`, `feature scaling` and `model validation` through techniques like `cross-validation`. \n",
    "- These models are widely used in various fields such as finance, healthcare, and engineering for tasks like forecasting, risk assessment, and trend analysis.\n",
    "- These models:\n",
    "    - **Gradient Boosting Regression**\n",
    "    - **Elastic Net Regression**\n",
    "    - **Bayesian Ridge Regression**\n",
    "    - **Stochastic Gradient Descent Regression**\n",
    "    - **Support Vector Machine Regression**\n",
    "    - **Lasso Regression**\n",
    "    - **Ensemble Regressors (Random Forest)**\n",
    "\n",
    "## **Data Preparation**\n"
   ]
  },
  {
   "cell_type": "code",
   "execution_count": 1,
   "id": "9b443e65",
   "metadata": {},
   "outputs": [],
   "source": [
    "import numpy as np\n",
    "import pandas as pd\n",
    "import matplotlib.pyplot as plt\n",
    "from sklearn.datasets import load_boston\n",
    "from sklearn.model_selection import train_test_split\n",
    "from sklearn.preprocessing import StandardScaler\n",
    "from sklearn.metrics import mean_squared_error, mean_absolute_error, r2_score\n",
    "from sklearn.model_selection import GridSearchCV"
   ]
  },
  {
   "cell_type": "markdown",
   "id": "1ab979e4",
   "metadata": {},
   "source": [
    "### Loading the dataset"
   ]
  },
  {
   "cell_type": "code",
   "execution_count": 2,
   "id": "5a25ca2e",
   "metadata": {},
   "outputs": [],
   "source": [
    "boston = load_boston()\n",
    "X, y = boston.data, boston.target\n",
    "X_df = pd.DataFrame(X, columns=boston.feature_names)\n",
    "y_df = pd.DataFrame(y, columns=['MEDV'])"
   ]
  },
  {
   "cell_type": "code",
   "execution_count": 3,
   "id": "c5259c5f",
   "metadata": {},
   "outputs": [
    {
     "data": {
      "text/html": [
       "<div>\n",
       "<style scoped>\n",
       "    .dataframe tbody tr th:only-of-type {\n",
       "        vertical-align: middle;\n",
       "    }\n",
       "\n",
       "    .dataframe tbody tr th {\n",
       "        vertical-align: top;\n",
       "    }\n",
       "\n",
       "    .dataframe thead th {\n",
       "        text-align: right;\n",
       "    }\n",
       "</style>\n",
       "<table border=\"1\" class=\"dataframe\">\n",
       "  <thead>\n",
       "    <tr style=\"text-align: right;\">\n",
       "      <th></th>\n",
       "      <th>CRIM</th>\n",
       "      <th>ZN</th>\n",
       "      <th>INDUS</th>\n",
       "      <th>CHAS</th>\n",
       "      <th>NOX</th>\n",
       "      <th>RM</th>\n",
       "      <th>AGE</th>\n",
       "      <th>DIS</th>\n",
       "      <th>RAD</th>\n",
       "      <th>TAX</th>\n",
       "      <th>PTRATIO</th>\n",
       "      <th>B</th>\n",
       "      <th>LSTAT</th>\n",
       "    </tr>\n",
       "  </thead>\n",
       "  <tbody>\n",
       "    <tr>\n",
       "      <th>0</th>\n",
       "      <td>0.00632</td>\n",
       "      <td>18.0</td>\n",
       "      <td>2.31</td>\n",
       "      <td>0.0</td>\n",
       "      <td>0.538</td>\n",
       "      <td>6.575</td>\n",
       "      <td>65.2</td>\n",
       "      <td>4.0900</td>\n",
       "      <td>1.0</td>\n",
       "      <td>296.0</td>\n",
       "      <td>15.3</td>\n",
       "      <td>396.90</td>\n",
       "      <td>4.98</td>\n",
       "    </tr>\n",
       "    <tr>\n",
       "      <th>1</th>\n",
       "      <td>0.02731</td>\n",
       "      <td>0.0</td>\n",
       "      <td>7.07</td>\n",
       "      <td>0.0</td>\n",
       "      <td>0.469</td>\n",
       "      <td>6.421</td>\n",
       "      <td>78.9</td>\n",
       "      <td>4.9671</td>\n",
       "      <td>2.0</td>\n",
       "      <td>242.0</td>\n",
       "      <td>17.8</td>\n",
       "      <td>396.90</td>\n",
       "      <td>9.14</td>\n",
       "    </tr>\n",
       "    <tr>\n",
       "      <th>2</th>\n",
       "      <td>0.02729</td>\n",
       "      <td>0.0</td>\n",
       "      <td>7.07</td>\n",
       "      <td>0.0</td>\n",
       "      <td>0.469</td>\n",
       "      <td>7.185</td>\n",
       "      <td>61.1</td>\n",
       "      <td>4.9671</td>\n",
       "      <td>2.0</td>\n",
       "      <td>242.0</td>\n",
       "      <td>17.8</td>\n",
       "      <td>392.83</td>\n",
       "      <td>4.03</td>\n",
       "    </tr>\n",
       "    <tr>\n",
       "      <th>3</th>\n",
       "      <td>0.03237</td>\n",
       "      <td>0.0</td>\n",
       "      <td>2.18</td>\n",
       "      <td>0.0</td>\n",
       "      <td>0.458</td>\n",
       "      <td>6.998</td>\n",
       "      <td>45.8</td>\n",
       "      <td>6.0622</td>\n",
       "      <td>3.0</td>\n",
       "      <td>222.0</td>\n",
       "      <td>18.7</td>\n",
       "      <td>394.63</td>\n",
       "      <td>2.94</td>\n",
       "    </tr>\n",
       "    <tr>\n",
       "      <th>4</th>\n",
       "      <td>0.06905</td>\n",
       "      <td>0.0</td>\n",
       "      <td>2.18</td>\n",
       "      <td>0.0</td>\n",
       "      <td>0.458</td>\n",
       "      <td>7.147</td>\n",
       "      <td>54.2</td>\n",
       "      <td>6.0622</td>\n",
       "      <td>3.0</td>\n",
       "      <td>222.0</td>\n",
       "      <td>18.7</td>\n",
       "      <td>396.90</td>\n",
       "      <td>5.33</td>\n",
       "    </tr>\n",
       "  </tbody>\n",
       "</table>\n",
       "</div>"
      ],
      "text/plain": [
       "      CRIM    ZN  INDUS  CHAS    NOX     RM   AGE     DIS  RAD    TAX  \\\n",
       "0  0.00632  18.0   2.31   0.0  0.538  6.575  65.2  4.0900  1.0  296.0   \n",
       "1  0.02731   0.0   7.07   0.0  0.469  6.421  78.9  4.9671  2.0  242.0   \n",
       "2  0.02729   0.0   7.07   0.0  0.469  7.185  61.1  4.9671  2.0  242.0   \n",
       "3  0.03237   0.0   2.18   0.0  0.458  6.998  45.8  6.0622  3.0  222.0   \n",
       "4  0.06905   0.0   2.18   0.0  0.458  7.147  54.2  6.0622  3.0  222.0   \n",
       "\n",
       "   PTRATIO       B  LSTAT  \n",
       "0     15.3  396.90   4.98  \n",
       "1     17.8  396.90   9.14  \n",
       "2     17.8  392.83   4.03  \n",
       "3     18.7  394.63   2.94  \n",
       "4     18.7  396.90   5.33  "
      ]
     },
     "execution_count": 3,
     "metadata": {},
     "output_type": "execute_result"
    }
   ],
   "source": [
    "X_df.head()"
   ]
  },
  {
   "cell_type": "code",
   "execution_count": 4,
   "id": "d32ccecf",
   "metadata": {},
   "outputs": [
    {
     "data": {
      "text/html": [
       "<div>\n",
       "<style scoped>\n",
       "    .dataframe tbody tr th:only-of-type {\n",
       "        vertical-align: middle;\n",
       "    }\n",
       "\n",
       "    .dataframe tbody tr th {\n",
       "        vertical-align: top;\n",
       "    }\n",
       "\n",
       "    .dataframe thead th {\n",
       "        text-align: right;\n",
       "    }\n",
       "</style>\n",
       "<table border=\"1\" class=\"dataframe\">\n",
       "  <thead>\n",
       "    <tr style=\"text-align: right;\">\n",
       "      <th></th>\n",
       "      <th>MEDV</th>\n",
       "    </tr>\n",
       "  </thead>\n",
       "  <tbody>\n",
       "    <tr>\n",
       "      <th>0</th>\n",
       "      <td>24.0</td>\n",
       "    </tr>\n",
       "    <tr>\n",
       "      <th>1</th>\n",
       "      <td>21.6</td>\n",
       "    </tr>\n",
       "    <tr>\n",
       "      <th>2</th>\n",
       "      <td>34.7</td>\n",
       "    </tr>\n",
       "    <tr>\n",
       "      <th>3</th>\n",
       "      <td>33.4</td>\n",
       "    </tr>\n",
       "    <tr>\n",
       "      <th>4</th>\n",
       "      <td>36.2</td>\n",
       "    </tr>\n",
       "  </tbody>\n",
       "</table>\n",
       "</div>"
      ],
      "text/plain": [
       "   MEDV\n",
       "0  24.0\n",
       "1  21.6\n",
       "2  34.7\n",
       "3  33.4\n",
       "4  36.2"
      ]
     },
     "execution_count": 4,
     "metadata": {},
     "output_type": "execute_result"
    }
   ],
   "source": [
    "y_df.head()"
   ]
  },
  {
   "cell_type": "markdown",
   "id": "0414602a",
   "metadata": {},
   "source": [
    "### Splitting the dataset"
   ]
  },
  {
   "cell_type": "code",
   "execution_count": 5,
   "id": "af2382a8",
   "metadata": {},
   "outputs": [],
   "source": [
    "X_train, X_test, y_train, y_test = train_test_split(X, y, test_size=0.2, random_state=42)"
   ]
  },
  {
   "cell_type": "code",
   "execution_count": 6,
   "id": "6422fcdb",
   "metadata": {},
   "outputs": [
    {
     "data": {
      "text/plain": [
       "(404, 13)"
      ]
     },
     "execution_count": 6,
     "metadata": {},
     "output_type": "execute_result"
    }
   ],
   "source": [
    "X_train.shape"
   ]
  },
  {
   "cell_type": "markdown",
   "id": "56f2a1dd",
   "metadata": {},
   "source": [
    "### Data Transformation"
   ]
  },
  {
   "cell_type": "code",
   "execution_count": 7,
   "id": "f3a9302f",
   "metadata": {},
   "outputs": [],
   "source": [
    "scaler = StandardScaler()\n",
    "X_train = scaler.fit_transform(X_train)\n",
    "X_test = scaler.transform(X_test)"
   ]
  },
  {
   "cell_type": "code",
   "execution_count": 8,
   "id": "dc106225",
   "metadata": {},
   "outputs": [
    {
     "data": {
      "image/png": "[encoded data removed]",
      "text/plain": [
       "<Figure size 432x288 with 1 Axes>"
      ]
     },
     "metadata": {
      "needs_background": "light"
     },
     "output_type": "display_data"
    }
   ],
   "source": [
    "plt.scatter(X_df['RM'], y_df, color='tan')\n",
    "plt.title('Number of Rooms vs. Median Home Value', weight='bold', fontsize=16)\n",
    "plt.xlabel('Number of Rooms', weight='bold')\n",
    "plt.ylabel('Median Home Value', weight='bold')\n",
    "plt.show()"
   ]
  },
  {
   "cell_type": "markdown",
   "id": "30cee26c",
   "metadata": {},
   "source": [
    "---\n",
    "## **1. Gradient Boosting Regression**\n",
    "\n",
    "Gradient Boosting Regression is an ensemble technique that builds models sequentially. Each new model attempts to correct the errors made by the previous ones, making it effective for complex datasets."
   ]
  },
  {
   "cell_type": "code",
   "execution_count": 9,
   "id": "3c4a8108",
   "metadata": {},
   "outputs": [],
   "source": [
    "from sklearn.ensemble import GradientBoostingRegressor"
   ]
  },
  {
   "cell_type": "markdown",
   "id": "a1778c01",
   "metadata": {},
   "source": [
    "### Training the model"
   ]
  },
  {
   "cell_type": "code",
   "execution_count": 10,
   "id": "5a103c48",
   "metadata": {},
   "outputs": [
    {
     "data": {
      "text/plain": [
       "GradientBoostingRegressor(random_state=42)"
      ]
     },
     "execution_count": 10,
     "metadata": {},
     "output_type": "execute_result"
    }
   ],
   "source": [
    "gbr_model = GradientBoostingRegressor(n_estimators=100, learning_rate=0.1, max_depth=3, random_state=42)\n",
    "gbr_model.fit(X_train, y_train)"
   ]
  },
  {
   "cell_type": "markdown",
   "id": "e9870ba0",
   "metadata": {},
   "source": [
    "### Predictions"
   ]
  },
  {
   "cell_type": "code",
   "execution_count": 11,
   "id": "c9baadf6",
   "metadata": {},
   "outputs": [
    {
     "data": {
      "text/plain": [
       "array([23.4497613 , 31.46136029, 17.70531345, 24.02257316, 17.6811439 ,\n",
       "       22.03112796, 18.14958762, 13.83045241, 20.61619342, 21.04285745,\n",
       "       19.93787694, 17.84771967,  9.00542602, 21.75820976, 19.79454516,\n",
       "       25.71887535, 20.04177142,  8.83726437, 45.07118382, 15.96280089,\n",
       "       24.1976327 , 25.26461031, 12.51887607, 20.89492763, 14.97826629,\n",
       "       15.47812803, 22.20367497, 13.26656609, 19.27766026, 21.43650957,\n",
       "       19.72895052, 23.47588201, 19.38092692, 19.15659237, 14.50437732,\n",
       "       16.94131142, 33.09630021, 19.80432738, 20.7291071 , 24.14928838,\n",
       "       18.30166138, 30.36297218, 44.94906542, 20.84894217, 22.61816613,\n",
       "       14.61317262, 15.71182991, 24.14928838, 18.06929082, 28.08800612,\n",
       "       20.23520559, 35.66832821, 16.73377496, 24.99108092, 47.7594972 ,\n",
       "       21.39870322, 16.51753536, 32.24969813, 22.03440415, 18.08425056,\n",
       "       24.24590305, 34.58456084, 30.66211615, 19.1946555 , 24.57888732,\n",
       "       16.92131694, 14.50851517, 23.66112578, 28.04012929, 15.40476214,\n",
       "       21.23386128, 24.96901377, 11.04430788, 21.36306687, 23.04411537,\n",
       "        6.34609352, 20.27445864, 45.93020001, 11.79854943, 12.89228027,\n",
       "       21.61669023, 13.32297788, 19.93114558, 10.55419493, 20.34218788,\n",
       "       26.96934638, 15.44188279, 23.6166354 , 25.62099461, 17.54812759,\n",
       "       22.36589817, 10.00067281, 19.28428371, 19.08093255, 22.71668007,\n",
       "       19.44786097, 40.43041915, 12.08828711, 12.01055212, 14.5398469 ,\n",
       "       20.67949841, 22.88578766])"
      ]
     },
     "execution_count": 11,
     "metadata": {},
     "output_type": "execute_result"
    }
   ],
   "source": [
    "y_pred_gbr = gbr_model.predict(X_test)\n",
    "y_pred_gbr"
   ]
  },
  {
   "cell_type": "code",
   "execution_count": 12,
   "id": "849838d2",
   "metadata": {},
   "outputs": [
    {
     "data": {
      "image/png": "[encoded data removed]",
      "text/plain": [
       "<Figure size 432x288 with 1 Axes>"
      ]
     },
     "metadata": {
      "needs_background": "light"
     },
     "output_type": "display_data"
    }
   ],
   "source": [
    "plt.scatter(y_test, y_pred_gbr)\n",
    "plt.xlabel('Actual Prices', weight='bold')\n",
    "plt.ylabel('Predicted Prices', weight='bold')\n",
    "plt.title('Gradient Boosting Regression Predictions', weight='bold', fontsize=16)\n",
    "plt.show()"
   ]
  },
  {
   "cell_type": "markdown",
   "id": "85e5a876",
   "metadata": {},
   "source": [
    "---\n",
    "## **2. Elastic Net Regression**\n",
    "\n",
    "Elastic Net Regression is a linear regression model that combines both `L1 (Lasso)` and `L2 (Ridge)` regularization techniques to prevent overfitting."
   ]
  },
  {
   "cell_type": "code",
   "execution_count": 13,
   "id": "dcae212d",
   "metadata": {},
   "outputs": [],
   "source": [
    "from sklearn.linear_model import ElasticNet\n",
    "from sklearn.datasets import make_regression"
   ]
  },
  {
   "cell_type": "markdown",
   "id": "25ed18fc",
   "metadata": {},
   "source": [
    "### Training the model"
   ]
  },
  {
   "cell_type": "code",
   "execution_count": 14,
   "id": "f0d1d833",
   "metadata": {},
   "outputs": [
    {
     "data": {
      "text/plain": [
       "ElasticNet(random_state=42)"
      ]
     },
     "execution_count": 14,
     "metadata": {},
     "output_type": "execute_result"
    }
   ],
   "source": [
    "e_net_model = ElasticNet(alpha=1.0, l1_ratio=0.5, random_state=42)\n",
    "e_net_model.fit(X_train, y_train)"
   ]
  },
  {
   "cell_type": "code",
   "execution_count": 15,
   "id": "750866e0",
   "metadata": {},
   "outputs": [
    {
     "name": "stdout",
     "output_type": "stream",
     "text": [
      "[-0.40827814  0.         -0.18409588  0.46384093 -0.2232498   2.55110853\n",
      " -0.         -0.         -0.         -0.33558655 -1.22110389  0.60097788\n",
      " -2.35523182]\n"
     ]
    }
   ],
   "source": [
    "print(e_net_model.coef_)"
   ]
  },
  {
   "cell_type": "code",
   "execution_count": 16,
   "id": "082b206b",
   "metadata": {},
   "outputs": [
    {
     "name": "stdout",
     "output_type": "stream",
     "text": [
      "22.796534653465372\n"
     ]
    }
   ],
   "source": [
    "print(e_net_model.intercept_)"
   ]
  },
  {
   "cell_type": "markdown",
   "id": "abc2b6ae",
   "metadata": {},
   "source": [
    "### Predictions"
   ]
  },
  {
   "cell_type": "code",
   "execution_count": 17,
   "id": "81112cb8",
   "metadata": {},
   "outputs": [
    {
     "data": {
      "text/plain": [
       "array([26.0158402 , 30.47521484, 17.84552955, 24.44834729, 19.07513852,\n",
       "       22.95253295, 19.86088825, 16.57008857, 20.74903482, 20.95236696,\n",
       "       23.0130392 , 22.4070053 ,  2.35175866, 22.74640243, 20.84949518,\n",
       "       23.5347415 , 19.27856226,  9.06488884, 34.82996988, 18.26904579,\n",
       "       25.26068852, 26.4696591 , 16.10910164, 23.72489111, 18.02175897,\n",
       "       15.5490468 , 22.5942395 , 17.45887384, 22.22926194, 20.18773904,\n",
       "       21.11034892, 24.98350571, 23.49193444, 17.98542272, 16.595655  ,\n",
       "       19.98458649, 29.87951019, 21.93697511, 23.3926826 , 24.33140802,\n",
       "       16.39741158, 27.37108029, 35.25776365, 20.49735179, 25.52724051,\n",
       "       17.02544196, 17.46524345, 25.27066283, 19.29643983, 28.65442423,\n",
       "       23.76460768, 30.70112201, 19.17713507, 25.10742485, 33.62415094,\n",
       "       21.68319426, 19.0116761 , 28.36428796, 24.89822921, 18.58681928,\n",
       "       25.51097032, 30.13149887, 27.63366117, 18.34946333, 26.70415547,\n",
       "       18.09320312, 19.66756429, 25.2381753 , 27.57100988, 14.90004145,\n",
       "       21.51316105, 24.23441451, 13.9613066 , 22.51219273, 23.10395455,\n",
       "       10.20244125, 21.3311714 , 34.31163023, 18.36508889, 13.53394681,\n",
       "       22.9714839 , 13.24970895, 24.30884396, 11.5494046 , 22.48493321,\n",
       "       28.49596741, 19.9710207 , 25.2940921 , 25.19308433, 20.78866732,\n",
       "       24.2213145 ,  9.80298627, 21.08037868, 21.54531202, 12.40624028,\n",
       "       21.57863801, 21.19094831,  4.64186911, 16.57592327, 16.56855397,\n",
       "       22.47111704, 24.04581626])"
      ]
     },
     "execution_count": 17,
     "metadata": {},
     "output_type": "execute_result"
    }
   ],
   "source": [
    "y_pred_en = e_net_model.predict(X_test)\n",
    "y_pred_en"
   ]
  },
  {
   "cell_type": "code",
   "execution_count": 18,
   "id": "9247b10d",
   "metadata": {},
   "outputs": [
    {
     "name": "stdout",
     "output_type": "stream",
     "text": [
      "Elastic Net Regressor Mean Squared Error: 28.358648122255964\n",
      "Elastic Net Regressor Mean Absolute Error: 3.4310018130449818\n",
      "Elastic Net Regressor R² Score: 0.6132935340284021\n"
     ]
    }
   ],
   "source": [
    "mse = mean_squared_error(y_test, y_pred_en)\n",
    "mae = mean_absolute_error(y_test, y_pred_en)\n",
    "r2 = r2_score(y_test, y_pred_en)\n",
    "\n",
    "print(f\"Elastic Net Regressor Mean Squared Error: {mse}\")\n",
    "print(f\"Elastic Net Regressor Mean Absolute Error: {mae}\")\n",
    "print(f\"Elastic Net Regressor R² Score: {r2}\")"
   ]
  },
  {
   "cell_type": "markdown",
   "id": "c6ed925f",
   "metadata": {},
   "source": [
    "### Hyperparameter tuning with GridSearchCV"
   ]
  },
  {
   "cell_type": "code",
   "execution_count": 19,
   "id": "37534fda",
   "metadata": {},
   "outputs": [],
   "source": [
    "param_grid = {\n",
    "    'alpha': [0.00001, 0.0001, 0.001, 0.01, 0.1, 1, 10, 100, 1000],\n",
    "    'l1_ratio': [0.1, 0.3, 0.5, 0.7, 0.9]\n",
    "}"
   ]
  },
  {
   "cell_type": "code",
   "execution_count": 20,
   "id": "b0d60994",
   "metadata": {},
   "outputs": [
    {
     "data": {
      "text/plain": [
       "GridSearchCV(cv=3, estimator=ElasticNet(), n_jobs=-1,\n",
       "             param_grid={'alpha': [1e-05, 0.0001, 0.001, 0.01, 0.1, 1, 10, 100,\n",
       "                                   1000],\n",
       "                         'l1_ratio': [0.1, 0.3, 0.5, 0.7, 0.9]})"
      ]
     },
     "execution_count": 20,
     "metadata": {},
     "output_type": "execute_result"
    }
   ],
   "source": [
    "elastic_net_cv = GridSearchCV(ElasticNet(), param_grid, cv=3, n_jobs=-1)\n",
    "elastic_net_cv.fit(X_train, y_train)"
   ]
  },
  {
   "cell_type": "code",
   "execution_count": 21,
   "id": "b9728855",
   "metadata": {},
   "outputs": [
    {
     "data": {
      "text/plain": [
       "{'alpha': 0.01, 'l1_ratio': 0.1}"
      ]
     },
     "execution_count": 21,
     "metadata": {},
     "output_type": "execute_result"
    }
   ],
   "source": [
    "elastic_net_cv.best_params_"
   ]
  },
  {
   "cell_type": "code",
   "execution_count": 22,
   "id": "6fb34296",
   "metadata": {},
   "outputs": [
    {
     "data": {
      "image/png": "[encoded data removed]",
      "text/plain": [
       "<Figure size 432x288 with 1 Axes>"
      ]
     },
     "metadata": {
      "needs_background": "light"
     },
     "output_type": "display_data"
    }
   ],
   "source": [
    "plt.scatter(y_test, y_pred_en, color='olive')\n",
    "plt.xlabel('Actual Prices', weight='bold')\n",
    "plt.ylabel('Predicted Prices', weight='bold')\n",
    "plt.title('Elastic Net Regression Predictions', weight='bold', fontsize=16)\n",
    "plt.show()"
   ]
  },
  {
   "cell_type": "markdown",
   "id": "d1a87687",
   "metadata": {},
   "source": [
    "---\n",
    "## **3. Bayesian Ridge Regression**\n",
    "\n",
    "Bayesian Ridge Regression applies Bayesian principles to linear regression, providing a probabilistic approach to regression."
   ]
  },
  {
   "cell_type": "code",
   "execution_count": 23,
   "id": "d3a8b8ed",
   "metadata": {},
   "outputs": [],
   "source": [
    "from sklearn.linear_model import BayesianRidge"
   ]
  },
  {
   "cell_type": "markdown",
   "id": "b1200413",
   "metadata": {},
   "source": [
    "### Training the model"
   ]
  },
  {
   "cell_type": "code",
   "execution_count": 24,
   "id": "e87e8537",
   "metadata": {},
   "outputs": [
    {
     "data": {
      "text/plain": [
       "BayesianRidge()"
      ]
     },
     "execution_count": 24,
     "metadata": {},
     "output_type": "execute_result"
    }
   ],
   "source": [
    "bayesian_ridge_model = BayesianRidge()\n",
    "bayesian_ridge_model.fit(X_train, y_train)"
   ]
  },
  {
   "cell_type": "markdown",
   "id": "ba7e02f7",
   "metadata": {},
   "source": [
    "### Predictions"
   ]
  },
  {
   "cell_type": "code",
   "execution_count": 25,
   "id": "8e9c09a6",
   "metadata": {},
   "outputs": [
    {
     "data": {
      "text/plain": [
       "array([28.86103438, 35.74797256, 15.38416904, 24.97297845, 18.74388114,\n",
       "       23.27641787, 17.77628339, 14.53433101, 22.73784633, 20.74240974,\n",
       "       24.7610732 , 18.83981081, -5.80625797, 21.87592846, 19.26930498,\n",
       "       26.01427823, 20.17888797,  5.80394391, 40.1773627 , 17.60245911,\n",
       "       27.04662778, 29.74725858, 11.6140355 , 24.21170457, 17.7872312 ,\n",
       "       15.62098894, 22.80456876, 14.67863826, 22.45360098, 19.33391915,\n",
       "       22.31360308, 25.22001618, 25.83800821, 17.61490579, 16.60266655,\n",
       "       17.19942936, 31.24212477, 20.15657908, 23.80394052, 24.60409813,\n",
       "       14.12382074, 31.81579664, 42.13434337, 17.54394947, 27.27818501,\n",
       "       16.88823776, 14.25675842, 25.87255688, 20.11795411, 30.07676546,\n",
       "       21.4151839 , 34.0673545 , 16.26984506, 26.33503187, 39.27873944,\n",
       "       22.45106491, 18.81416955, 32.30784075, 25.08388539, 13.12374614,\n",
       "       22.78981359, 30.34008708, 31.28498834, 16.03172365, 20.82515846,\n",
       "       16.75985363, 20.43190593, 25.90448653, 30.34803121, 11.65090716,\n",
       "       20.49160676, 27.21178241, 11.10091028, 16.0931113 , 23.79935642,\n",
       "        6.35047123, 21.68947735, 40.87679698, 18.70574854,  9.47839371,\n",
       "       21.01714459, 13.05893497, 20.94952262,  9.32912124, 23.16255402,\n",
       "       31.82253675, 19.12505082, 25.52539913, 28.61676022, 20.27397405,\n",
       "       25.53859196,  5.77121427, 20.2413834 , 15.5122809 , 12.19831483,\n",
       "       20.86699718, 24.42358172, -0.20384987, 13.7868163 , 16.06621022,\n",
       "       22.27649404, 24.51825139])"
      ]
     },
     "execution_count": 25,
     "metadata": {},
     "output_type": "execute_result"
    }
   ],
   "source": [
    "y_pred_br = bayesian_ridge_model.predict(X_test)\n",
    "y_pred_br"
   ]
  },
  {
   "cell_type": "code",
   "execution_count": 26,
   "id": "7cfdb9c2",
   "metadata": {},
   "outputs": [
    {
     "data": {
      "image/png": "[encoded data removed]",
      "text/plain": [
       "<Figure size 432x288 with 1 Axes>"
      ]
     },
     "metadata": {
      "needs_background": "light"
     },
     "output_type": "display_data"
    }
   ],
   "source": [
    "plt.scatter(y_test, y_pred_br, color='gold')\n",
    "plt.xlabel('Actual Prices', weight='bold')\n",
    "plt.ylabel('Predicted Prices', weight='bold')\n",
    "plt.title('Bayesian Ridge Regression Predictions', weight='bold', fontsize=16)\n",
    "plt.show()"
   ]
  },
  {
   "cell_type": "markdown",
   "id": "cac7e5bd",
   "metadata": {},
   "source": [
    "---\n",
    "## **4. Stochastic Gradient Descent Regression**\n",
    "\n",
    "Stochastic Gradient Descent (SGD) Regression is an optimization algorithm that updates model parameters iteratively to minimize the loss function.\n",
    "\n",
    "**Why:** Efficient for large datasets\n",
    "\n",
    "**When:** Use when the sample size is large (>100,000)"
   ]
  },
  {
   "cell_type": "code",
   "execution_count": 27,
   "id": "3e1ecb41",
   "metadata": {},
   "outputs": [],
   "source": [
    "from sklearn.linear_model import SGDRegressor\n",
    "from sklearn.metrics import mean_squared_error"
   ]
  },
  {
   "cell_type": "markdown",
   "id": "51ef054e",
   "metadata": {},
   "source": [
    "### Training the model"
   ]
  },
  {
   "cell_type": "code",
   "execution_count": 28,
   "id": "8fd03428",
   "metadata": {},
   "outputs": [
    {
     "data": {
      "text/plain": [
       "SGDRegressor(max_iter=100)"
      ]
     },
     "execution_count": 28,
     "metadata": {},
     "output_type": "execute_result"
    }
   ],
   "source": [
    "sgd_model = SGDRegressor(max_iter=100, tol=1e-3)\n",
    "sgd_model.fit(X_train, y_train)"
   ]
  },
  {
   "cell_type": "markdown",
   "id": "f9c49ee4",
   "metadata": {},
   "source": [
    "### Predictions"
   ]
  },
  {
   "cell_type": "code",
   "execution_count": 29,
   "id": "7b3ab878",
   "metadata": {},
   "outputs": [
    {
     "data": {
      "text/plain": [
       "array([28.92796722, 35.72710469, 16.01098054, 25.00988334, 18.70049705,\n",
       "       23.3989628 , 17.71974547, 14.58151657, 22.68248891, 20.86564861,\n",
       "       24.56824134, 18.76381425, -5.99167192, 22.00665221, 19.20279688,\n",
       "       26.03782204, 19.6437418 ,  5.61852248, 40.17630513, 17.56125689,\n",
       "       26.95135995, 29.64300468, 11.55165686, 24.27628076, 17.73069584,\n",
       "       15.49952092, 22.94647224, 14.59476891, 22.35843439, 19.44987705,\n",
       "       22.29321911, 25.23755179, 25.92427587, 17.56327975, 16.47800978,\n",
       "       17.20541321, 31.32597802, 20.01854722, 23.74720805, 24.63756884,\n",
       "       14.1704919 , 31.61187231, 41.98990903, 17.63768104, 27.42156807,\n",
       "       16.81511959, 14.22003878, 25.92195245, 20.05163803, 30.33564528,\n",
       "       21.36726781, 33.97118074, 16.26605905, 26.58218981, 39.34198649,\n",
       "       22.44309674, 18.77531293, 32.15063553, 25.10949718, 12.99163878,\n",
       "       22.65749998, 30.14821088, 31.29574225, 16.0407193 , 21.13396342,\n",
       "       16.58896454, 20.40727921, 25.92098194, 30.27834358, 11.50695898,\n",
       "       20.38362215, 27.23392432, 10.99423562, 16.13959612, 23.94297024,\n",
       "        6.29160571, 21.86044449, 40.71558781, 18.68395129, 10.0264138 ,\n",
       "       21.15720814, 12.88871648, 21.00268148,  9.17987197, 23.15165764,\n",
       "       31.83235527, 19.0859839 , 25.55645766, 28.42501572, 20.39642991,\n",
       "       25.59503478,  5.63449205, 20.37473221, 15.734635  , 12.05343583,\n",
       "       21.00572722, 24.41683613, -0.49569507, 13.71938641, 15.96027136,\n",
       "       22.26135936, 24.67833651])"
      ]
     },
     "execution_count": 29,
     "metadata": {},
     "output_type": "execute_result"
    }
   ],
   "source": [
    "y_pred_sgd = sgd_model.predict(X_test)\n",
    "y_pred_sgd"
   ]
  },
  {
   "cell_type": "markdown",
   "id": "e64abfe1",
   "metadata": {},
   "source": [
    "### Evaluation"
   ]
  },
  {
   "cell_type": "code",
   "execution_count": 30,
   "id": "16ac5889",
   "metadata": {},
   "outputs": [
    {
     "name": "stdout",
     "output_type": "stream",
     "text": [
      "SGD Regressor Mean Squared Error: 24.814295298429094\n"
     ]
    }
   ],
   "source": [
    "mse = mean_squared_error(y_test, y_pred_sgd)\n",
    "print(f'SGD Regressor Mean Squared Error: {mse}')"
   ]
  },
  {
   "cell_type": "code",
   "execution_count": 31,
   "id": "33eecc32",
   "metadata": {},
   "outputs": [
    {
     "data": {
      "image/png": "[encoded data removed]",
      "text/plain": [
       "<Figure size 432x288 with 1 Axes>"
      ]
     },
     "metadata": {
      "needs_background": "light"
     },
     "output_type": "display_data"
    }
   ],
   "source": [
    "plt.scatter(y_test, y_pred_sgd, color='plum')\n",
    "plt.xlabel('Actual Values', weight='bold')\n",
    "plt.ylabel('Predicted Values', weight='bold')\n",
    "plt.title('SGD Regression Predictions', weight='bold', fontsize=16)\n",
    "plt.show()"
   ]
  },
  {
   "cell_type": "markdown",
   "id": "ba99fe7b",
   "metadata": {},
   "source": [
    "---\n",
    "## **5. Support Vector Machine Regression**\n",
    "\n",
    "Support Vector Machine (SVM) Regression is a type of Support Vector Machine that predicts continuous values rather than classifications."
   ]
  },
  {
   "cell_type": "code",
   "execution_count": 32,
   "id": "ab10d60e",
   "metadata": {},
   "outputs": [],
   "source": [
    "from sklearn.svm import SVR"
   ]
  },
  {
   "cell_type": "markdown",
   "id": "7e6593ee",
   "metadata": {},
   "source": [
    "### Training the model"
   ]
  },
  {
   "cell_type": "code",
   "execution_count": 33,
   "id": "533fd69d",
   "metadata": {},
   "outputs": [
    {
     "data": {
      "text/plain": [
       "SVR(kernel='linear')"
      ]
     },
     "execution_count": 33,
     "metadata": {},
     "output_type": "execute_result"
    }
   ],
   "source": [
    "svm_model = SVR(kernel='linear')\n",
    "svm_model.fit(X_train, y_train)"
   ]
  },
  {
   "cell_type": "markdown",
   "id": "cbd09b1e",
   "metadata": {},
   "source": [
    "### Predictions"
   ]
  },
  {
   "cell_type": "code",
   "execution_count": 34,
   "id": "b7953cec",
   "metadata": {},
   "outputs": [
    {
     "data": {
      "text/plain": [
       "array([26.31016269, 32.69170486, 15.91777924, 24.25889284, 18.01277575,\n",
       "       21.95636273, 17.83715704, 16.67985915, 19.77567968, 20.05298134,\n",
       "       22.00156037, 18.58864783, -5.94435477, 21.55473462, 17.67402875,\n",
       "       25.05533452, 19.54979435,  5.36140425, 39.99100939, 16.64908024,\n",
       "       26.57404564, 28.78828667, 12.47209881, 24.33625151, 15.91937961,\n",
       "       12.62941555, 21.60003989, 14.2719373 , 19.9719371 , 18.65560292,\n",
       "       19.64647466, 24.30776658, 24.85375114, 14.06911376, 15.25180534,\n",
       "       16.84230319, 30.3718119 , 19.58483561, 22.02208796, 24.65376679,\n",
       "       14.35963415, 29.84449113, 41.97596354, 17.29007769, 25.79103664,\n",
       "       14.84769623, 13.94697892, 25.98907779, 18.41609788, 28.37300997,\n",
       "       20.28649792, 32.65317146, 16.93060231, 25.54889315, 37.79332406,\n",
       "       20.98600147, 17.65782583, 31.48519718, 24.51523846, 13.30094553,\n",
       "       23.58320389, 31.26510142, 29.66617878, 15.57354324, 21.60841071,\n",
       "       14.4489115 , 19.3432967 , 25.0905891 , 29.72543206, 10.4377014 ,\n",
       "       20.50111855, 24.41311877, 10.85367569, 17.02159986, 22.82638956,\n",
       "        6.60822466, 20.3209004 , 40.62365134, 18.37288962, 10.42626077,\n",
       "       20.3294316 , 11.91330524, 21.39862068,  8.18405794, 21.27875913,\n",
       "       28.47232243, 18.72745727, 24.79213721, 27.29378101, 20.56481906,\n",
       "       24.09709333,  4.80957345, 19.95869408, 15.90994784,  4.91049987,\n",
       "       20.38676083, 20.46873305, -1.53344056, 12.91968505, 14.76829474,\n",
       "       21.87471312, 23.60613907])"
      ]
     },
     "execution_count": 34,
     "metadata": {},
     "output_type": "execute_result"
    }
   ],
   "source": [
    "y_pred_svr = svm_model.predict(X_test)\n",
    "y_pred_svr"
   ]
  },
  {
   "cell_type": "code",
   "execution_count": 35,
   "id": "e6d2438f",
   "metadata": {},
   "outputs": [
    {
     "data": {
      "image/png": "[encoded data removed]",
      "text/plain": [
       "<Figure size 432x288 with 1 Axes>"
      ]
     },
     "metadata": {
      "needs_background": "light"
     },
     "output_type": "display_data"
    }
   ],
   "source": [
    "plt.scatter(y_test, y_pred_svr, color='palegreen')\n",
    "plt.xlabel('Actual Quality', weight='bold')\n",
    "plt.ylabel('Predicted Quality', weight='bold')\n",
    "plt.title('SVM Regression Predictions', weight='bold', fontsize=16)\n",
    "plt.show()"
   ]
  },
  {
   "cell_type": "markdown",
   "id": "38b3badf",
   "metadata": {},
   "source": [
    "---\n",
    "## **6. Lasso Regression**\n",
    "\n",
    "Lasso (Least Absolute Shrinkage and Selection Operator) Regression\n",
    "\n",
    "**Why:** Performs feature selection\n",
    "\n",
    "**When:** Use when you expect only a few features to be significant"
   ]
  },
  {
   "cell_type": "code",
   "execution_count": 36,
   "id": "d7fe2f11",
   "metadata": {},
   "outputs": [],
   "source": [
    "from sklearn.linear_model import Lasso"
   ]
  },
  {
   "cell_type": "markdown",
   "id": "dced9c43",
   "metadata": {},
   "source": [
    "### Training the model"
   ]
  },
  {
   "cell_type": "code",
   "execution_count": 37,
   "id": "72d75537",
   "metadata": {},
   "outputs": [
    {
     "data": {
      "text/plain": [
       "Lasso()"
      ]
     },
     "execution_count": 37,
     "metadata": {},
     "output_type": "execute_result"
    }
   ],
   "source": [
    "lasso = Lasso(max_iter=1000)\n",
    "lasso.fit(X_train, y_train)"
   ]
  },
  {
   "cell_type": "markdown",
   "id": "1786d192",
   "metadata": {},
   "source": [
    "### Predictions"
   ]
  },
  {
   "cell_type": "code",
   "execution_count": 38,
   "id": "761110fa",
   "metadata": {},
   "outputs": [
    {
     "data": {
      "text/plain": [
       "array([25.98607901, 29.69947724, 17.86451976, 24.68564266, 19.52303372,\n",
       "       22.73829033, 18.37606023, 15.18540808, 21.37141046, 20.36087397,\n",
       "       20.00834578, 21.087778  ,  0.90763235, 22.42082697, 19.9581115 ,\n",
       "       25.10816047, 18.14124221,  6.94444465, 36.41353681, 18.6795378 ,\n",
       "       25.29589486, 26.6109486 , 13.89488981, 24.02519829, 18.68190255,\n",
       "       15.16431497, 22.45295718, 18.8441478 , 19.13179791, 19.45755305,\n",
       "       19.63846679, 25.26571644, 25.79741229, 18.80668172, 16.0559808 ,\n",
       "       20.08644064, 31.03903052, 21.27986441, 20.76613814, 24.43974869,\n",
       "       14.35442688, 27.60552111, 36.96468782, 19.23331116, 25.42532989,\n",
       "       17.10436663, 15.85657302, 25.60956041, 19.48313703, 29.3275448 ,\n",
       "       22.98075185, 31.41733989, 17.78465784, 25.86562078, 35.31088786,\n",
       "       22.78846377, 19.55869491, 29.21587814, 24.5577775 , 16.57984857,\n",
       "       25.57110583, 30.9067251 , 28.57377681, 17.61572343, 27.32840116,\n",
       "       13.70501065, 20.37937635, 25.28431528, 28.07653111, 15.45877732,\n",
       "       20.11215959, 26.06139053, 13.77586324, 22.49230834, 23.00793076,\n",
       "        9.53333623, 20.96723529, 35.74682135, 18.83231018, 12.35972256,\n",
       "       22.54253068, 11.87697666, 23.64759368, 10.09303909, 22.02025663,\n",
       "       27.33992559, 21.04465958, 25.73117622, 25.56731844, 20.98196562,\n",
       "       23.74517554,  9.45554876, 21.54621909, 20.65033129, 12.30968683,\n",
       "       22.23422386, 22.75220722,  2.36743022, 18.09306849, 17.47534236,\n",
       "       21.38737178, 24.25646579])"
      ]
     },
     "execution_count": 38,
     "metadata": {},
     "output_type": "execute_result"
    }
   ],
   "source": [
    "y_pred_lasso = lasso.predict(X_test)\n",
    "y_pred_lasso"
   ]
  },
  {
   "cell_type": "markdown",
   "id": "4af0cd67",
   "metadata": {},
   "source": [
    "### Evaluation"
   ]
  },
  {
   "cell_type": "code",
   "execution_count": 39,
   "id": "67909c50",
   "metadata": {},
   "outputs": [
    {
     "name": "stdout",
     "output_type": "stream",
     "text": [
      "Lasso Regressor Mean Squared Error: 27.57769177613475\n",
      "Lasso Regressor Mean Absolute Error: 3.473770443541664\n",
      "Lasso Regressor R² Score: 0.6239428734251422\n"
     ]
    }
   ],
   "source": [
    "mse = mean_squared_error(y_test, y_pred_lasso)\n",
    "mae = mean_absolute_error(y_test, y_pred_lasso)\n",
    "r2 = r2_score(y_test, y_pred_lasso)\n",
    "\n",
    "print(f'Lasso Regressor Mean Squared Error: {mse}')\n",
    "print(f'Lasso Regressor Mean Absolute Error: {mae}')\n",
    "print(f'Lasso Regressor R² Score: {r2}')"
   ]
  },
  {
   "cell_type": "markdown",
   "id": "9a22475e",
   "metadata": {},
   "source": [
    "### Hyperparameter tuning with GridSearchCV"
   ]
  },
  {
   "cell_type": "code",
   "execution_count": 40,
   "id": "25e8c202",
   "metadata": {},
   "outputs": [],
   "source": [
    "param_grid = {\n",
    "    'alpha': [0.00001, 0.0001, 0.001, 0.01, 0.1, 1, 10, 100, 1000],\n",
    "    'tol': [0.00001, 0.0001, 0.001, 0.01, 0.1, 1, 10, 100, 1000],\n",
    "    'max_iter': [1000, 10000, 100000, 1000000, 10000000]\n",
    "}"
   ]
  },
  {
   "cell_type": "code",
   "execution_count": 41,
   "id": "49e17762",
   "metadata": {},
   "outputs": [
    {
     "data": {
      "text/plain": [
       "GridSearchCV(cv=3, estimator=Lasso(), n_jobs=-1,\n",
       "             param_grid={'alpha': [1e-05, 0.0001, 0.001, 0.01, 0.1, 1, 10, 100,\n",
       "                                   1000],\n",
       "                         'max_iter': [1000, 10000, 100000, 1000000, 10000000],\n",
       "                         'tol': [1e-05, 0.0001, 0.001, 0.01, 0.1, 1, 10, 100,\n",
       "                                 1000]})"
      ]
     },
     "execution_count": 41,
     "metadata": {},
     "output_type": "execute_result"
    }
   ],
   "source": [
    "lasso_cv = GridSearchCV(Lasso(), param_grid, cv=3, n_jobs=-1)\n",
    "lasso_cv.fit(X_train, y_train)"
   ]
  },
  {
   "cell_type": "code",
   "execution_count": 42,
   "id": "56769b2d",
   "metadata": {},
   "outputs": [
    {
     "name": "stdout",
     "output_type": "stream",
     "text": [
      "Best Lasso Parameters: {'alpha': 0.01, 'max_iter': 1000, 'tol': 1e-05}\n"
     ]
    }
   ],
   "source": [
    "print(f'Best Lasso Parameters: {lasso_cv.best_params_}')"
   ]
  },
  {
   "cell_type": "code",
   "execution_count": 43,
   "id": "f5e96c7c",
   "metadata": {},
   "outputs": [
    {
     "data": {
      "image/png": "[encoded data removed]",
      "text/plain": [
       "<Figure size 432x288 with 1 Axes>"
      ]
     },
     "metadata": {
      "needs_background": "light"
     },
     "output_type": "display_data"
    }
   ],
   "source": [
    "plt.scatter(y_test, y_pred_lasso, color='red')\n",
    "plt.title('Lasso Regressor Predictions vs Actual', weight='bold', fontsize=16)\n",
    "plt.xlabel('Actual', weight='bold')\n",
    "plt.ylabel('Predicted', weight='bold')\n",
    "plt.show()"
   ]
  },
  {
   "cell_type": "markdown",
   "id": "9c59e797",
   "metadata": {},
   "source": [
    "---\n",
    "## **7. Ensemble Regressors (Random Forest)**\n",
    "\n",
    "**Why:** Reduces overfitting and handles complex patterns\n",
    "\n",
    "**When:** Use when dealing with medium to large datasets"
   ]
  },
  {
   "cell_type": "code",
   "execution_count": 44,
   "id": "2ab17e00",
   "metadata": {},
   "outputs": [],
   "source": [
    "from sklearn.ensemble import RandomForestRegressor"
   ]
  },
  {
   "cell_type": "markdown",
   "id": "ed64dc00",
   "metadata": {},
   "source": [
    "### Training the model"
   ]
  },
  {
   "cell_type": "code",
   "execution_count": 45,
   "id": "a33f90c1",
   "metadata": {},
   "outputs": [
    {
     "data": {
      "text/plain": [
       "RandomForestRegressor(max_depth=5)"
      ]
     },
     "execution_count": 45,
     "metadata": {},
     "output_type": "execute_result"
    }
   ],
   "source": [
    "rf = RandomForestRegressor(n_estimators=100, max_depth=5)\n",
    "rf.fit(X_train, y_train)"
   ]
  },
  {
   "cell_type": "markdown",
   "id": "b7b6d2f0",
   "metadata": {},
   "source": [
    "### Prediction"
   ]
  },
  {
   "cell_type": "code",
   "execution_count": 46,
   "id": "5551d459",
   "metadata": {},
   "outputs": [
    {
     "data": {
      "text/plain": [
       "array([22.1528245 , 29.52355481, 17.49038457, 22.79382689, 15.75131166,\n",
       "       21.62587976, 18.75765425, 15.66784332, 21.21654351, 20.84078975,\n",
       "       19.16044678, 18.99683884,  8.93976573, 21.62760097, 20.87260262,\n",
       "       26.30164567, 18.63112178,  9.56825315, 45.16978559, 14.64494183,\n",
       "       23.54404276, 23.110891  , 15.32879465, 23.58115847, 15.24598731,\n",
       "       15.62960653, 21.36764092, 14.30612227, 18.75189085, 20.98562313,\n",
       "       19.89860389, 23.07663019, 29.41086095, 20.68458235, 15.01753968,\n",
       "       15.97157317, 34.88602407, 20.91347364, 20.16500746, 22.93184569,\n",
       "       18.74130904, 29.22355594, 45.25558946, 20.88922756, 22.28058626,\n",
       "       14.27233567, 16.29465367, 23.08506094, 17.4682914 , 27.23339377,\n",
       "       20.96958876, 32.81167076, 16.7541871 , 25.93865477, 45.42984668,\n",
       "       21.26255536, 15.40200178, 31.17325756, 22.10496091, 19.88867637,\n",
       "       25.51640422, 34.05690169, 28.41448598, 20.16383965, 26.67388716,\n",
       "       17.98098879, 13.75785681, 23.06056968, 27.50642177, 15.35059133,\n",
       "       21.12110902, 27.95219686, 10.12983865, 22.48013639, 21.50912343,\n",
       "        8.93111879, 21.07101348, 45.6146714 , 11.24065146, 14.84107127,\n",
       "       21.41152173, 13.45893152, 21.25305468,  9.72484994, 20.92574384,\n",
       "       25.99034429, 15.89739924, 23.10579094, 23.12092336, 17.62350591,\n",
       "       21.21197866,  8.80399901, 20.90373165, 20.90370787, 22.58727237,\n",
       "       20.90373165, 39.74916002, 12.84441418, 12.71542927, 13.57351852,\n",
       "       21.11032845, 22.17706876])"
      ]
     },
     "execution_count": 46,
     "metadata": {},
     "output_type": "execute_result"
    }
   ],
   "source": [
    "y_pred_rf = rf.predict(X_test)\n",
    "y_pred_rf"
   ]
  },
  {
   "cell_type": "markdown",
   "id": "f6b6f1f3",
   "metadata": {},
   "source": [
    "### Evaluation"
   ]
  },
  {
   "cell_type": "code",
   "execution_count": 47,
   "id": "6c02b75e",
   "metadata": {},
   "outputs": [
    {
     "name": "stdout",
     "output_type": "stream",
     "text": [
      "Random Forest Regressor Mean Squared Error: 9.173763031219103\n",
      "Random Forest Regressor Mean Absolute Error: 2.2007378477130883\n",
      "Random Forest Regressor R² Score: 0.8749039987318895\n"
     ]
    }
   ],
   "source": [
    "mse = mean_squared_error(y_test, y_pred_rf)\n",
    "mae = mean_absolute_error(y_test, y_pred_rf)\n",
    "r2 = r2_score(y_test, y_pred_rf)\n",
    "\n",
    "print(f'Random Forest Regressor Mean Squared Error: {mse}')\n",
    "print(f'Random Forest Regressor Mean Absolute Error: {mae}')\n",
    "print(f'Random Forest Regressor R² Score: {r2}')"
   ]
  },
  {
   "cell_type": "markdown",
   "id": "360f22b3",
   "metadata": {},
   "source": [
    "### Hyperparameter tuning with GridSearchCV"
   ]
  },
  {
   "cell_type": "code",
   "execution_count": 48,
   "id": "27460124",
   "metadata": {},
   "outputs": [],
   "source": [
    "param_grid = {\n",
    "    'n_estimators': [50, 100, 200],\n",
    "    'max_depth': [None, 10, 20, 30],\n",
    "    'min_samples_split': [2, 5, 10],\n",
    "    'min_samples_leaf': [1, 2, 4]\n",
    "}"
   ]
  },
  {
   "cell_type": "code",
   "execution_count": 49,
   "id": "b11a3cd4",
   "metadata": {},
   "outputs": [
    {
     "data": {
      "text/plain": [
       "GridSearchCV(cv=3, estimator=RandomForestRegressor(), n_jobs=-1,\n",
       "             param_grid={'max_depth': [None, 10, 20, 30],\n",
       "                         'min_samples_leaf': [1, 2, 4],\n",
       "                         'min_samples_split': [2, 5, 10],\n",
       "                         'n_estimators': [50, 100, 200]})"
      ]
     },
     "execution_count": 49,
     "metadata": {},
     "output_type": "execute_result"
    }
   ],
   "source": [
    "rf_cv = GridSearchCV(RandomForestRegressor(), param_grid, cv=3, n_jobs=-1)\n",
    "rf_cv.fit(X_train, y_train)"
   ]
  },
  {
   "cell_type": "code",
   "execution_count": 50,
   "id": "b7f0d531",
   "metadata": {},
   "outputs": [
    {
     "name": "stdout",
     "output_type": "stream",
     "text": [
      "Best Random Forest Parameters: {'max_depth': 30, 'min_samples_leaf': 1, 'min_samples_split': 2, 'n_estimators': 50}\n"
     ]
    }
   ],
   "source": [
    "print(f'Best Random Forest Parameters: {rf_cv.best_params_}')"
   ]
  },
  {
   "cell_type": "code",
   "execution_count": 51,
   "id": "58d7bc2f",
   "metadata": {},
   "outputs": [
    {
     "data": {
      "image/png": "[encoded data removed]",
      "text/plain": [
       "<Figure size 432x288 with 1 Axes>"
      ]
     },
     "metadata": {
      "needs_background": "light"
     },
     "output_type": "display_data"
    }
   ],
   "source": [
    "plt.scatter(y_test, y_pred_rf, color='deeppink')\n",
    "plt.title('Random Forest Regressor Predictions vs Actual', weight='bold', fontsize=16)\n",
    "plt.xlabel('Actual', weight='bold')\n",
    "plt.ylabel('Predicted', weight='bold')\n",
    "plt.show()"
   ]
  },
  {
   "cell_type": "code",
   "execution_count": 52,
   "id": "9fb87f7a",
   "metadata": {},
   "outputs": [
    {
     "data": {
      "image/png": "[encoded data removed]",
      "text/plain": [
       "<Figure size 864x576 with 1 Axes>"
      ]
     },
     "metadata": {
      "needs_background": "light"
     },
     "output_type": "display_data"
    }
   ],
   "source": [
    "# Function to plot predictions\n",
    "def plot_model_predictions(y_test, predictions, labels):\n",
    "    plt.figure(figsize=(12, 8))\n",
    "    \n",
    "    # Plot the actual values\n",
    "    plt.scatter(y_test, y_test, color='black', label='Actual values', alpha=0.6)\n",
    "    \n",
    "    # Plot each model's predictions\n",
    "    for y_pred, label in zip(predictions, labels):\n",
    "        mse = mean_squared_error(y_test, y_pred)\n",
    "        r2 = r2_score(y_test, y_pred)\n",
    "        plt.scatter(y_test, y_pred, label=f'{label} (MSE: {mse:.2f}, R²: {r2:.2f})', alpha=0.6)\n",
    "    \n",
    "    plt.xlabel('Actual Values', weight='bold')\n",
    "    plt.ylabel('Predicted Values', weight='bold')\n",
    "    plt.title('Comparison of Regression Models', weight='bold', fontsize=16)\n",
    "    plt.legend(loc='best', bbox_to_anchor=(1.05, 1), borderaxespad=0.)\n",
    "    plt.show()\n",
    "\n",
    "predictions = [y_pred_gbr, y_pred_en, y_pred_br, y_pred_sgd, y_pred_svr, y_pred_lasso, y_pred_rf]\n",
    "labels = ['Gradient Boosting', 'Elastic Net', 'Bayesian Ridge', 'SGD', 'SVM', 'Lasso', 'Random Forest']\n",
    "plot_model_predictions(y_test, predictions, labels)"
   ]
  },
  {
   "cell_type": "markdown",
   "id": "94c8624b",
   "metadata": {},
   "source": [
    "# **The End :)**"
   ]
  }
 ],
 "metadata": {
  "kernelspec": {
   "display_name": "Python 3",
   "language": "python",
   "name": "python3"
  },
  "language_info": {
   "codemirror_mode": {
    "name": "ipython",
    "version": 3
   },
   "file_extension": ".py",
   "mimetype": "text/x-python",
   "name": "python",
   "nbconvert_exporter": "python",
   "pygments_lexer": "ipython3",
   "version": "3.8.8"
  }
 },
 "nbformat": 4,
 "nbformat_minor": 5
}
