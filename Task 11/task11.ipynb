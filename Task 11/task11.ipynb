{
 "cells": [
  {
   "cell_type": "markdown",
   "id": "25f267f3",
   "metadata": {},
   "source": [
    "# Name: Iman Noor\n",
    "## Submission Date: 26-06-2024"
   ]
  },
  {
   "attachments": {
    "image.png": {
     "image/png": "[encoded data removed]"
    }
   },
   "cell_type": "markdown",
   "id": "de1c8e79",
   "metadata": {},
   "source": [
    "# **NumPy advanced operations (indexing, slicing, broadcasting)**\n",
    "\n",
    "## **Indexing and Slicing**\n",
    "\n",
    "## **Indexing**\n",
    "- Indexing is the process of accessing an element in a sequence using its position in the sequence (its index).\n",
    "- Use square brackets `[]` to access desired index.\n",
    "\n",
    "## **Slicing**\n",
    "- Slicing is the process of accessing a sub-sequence of a sequence by specifying a starting and ending index.\n",
    "- Colon `:` operator is used to perform slicing.\n",
    "\n",
    "![image.png](attachment:image.png)\n",
    "\n",
    "**Q: Given a 2D array of shape (6, 6), extract a 2x2 sub-array starting from the element at position (1, 1).**"
   ]
  },
  {
   "cell_type": "code",
   "execution_count": 1,
   "id": "4cc8bb50",
   "metadata": {},
   "outputs": [
    {
     "name": "stdout",
     "output_type": "stream",
     "text": [
      "2D array of shape (6, 6):\n",
      " [[ 8  7 20 11 19  3]\n",
      " [11 12  4 10 19  7]\n",
      " [ 6 21  8  7 11  6]\n",
      " [22 21  8 24  1 19]\n",
      " [22  5 18 12 15 13]\n",
      " [ 8 12  4 22  8 11]]\n",
      "Extracted sub-array:\n",
      " [[ 7 20]\n",
      " [12  4]]\n"
     ]
    }
   ],
   "source": [
    "import numpy as np\n",
    "x = np.random.randint(1, 25, (6,6))\n",
    "print(\"2D array of shape (6, 6):\\n\",x)\n",
    "y = x[0:2 ,1:3]\n",
    "print(\"Extracted sub-array:\\n\",y)"
   ]
  },
  {
   "cell_type": "markdown",
   "id": "444fb858",
   "metadata": {},
   "source": [
    "**Q. From a 3D array of shape (3, 2, 1), extract all elements in the first two rows and all columns of the second slice along the third axis.**"
   ]
  },
  {
   "cell_type": "code",
   "execution_count": 2,
   "id": "6d7c0e66",
   "metadata": {},
   "outputs": [
    {
     "name": "stdout",
     "output_type": "stream",
     "text": [
      "3D array:\n",
      " [[[1]\n",
      "  [2]]\n",
      "\n",
      " [[3]\n",
      "  [4]]\n",
      "\n",
      " [[5]\n",
      "  [6]]]\n",
      "Extracted sub-array:\n",
      " [[1 2]\n",
      " [3 4]]\n",
      "Extracted sub-array with larger array:\n",
      " [[0.95766907 0.24146887]\n",
      " [0.8426772  0.49826667]]\n"
     ]
    }
   ],
   "source": [
    "a = np.array([[[1], [2]],\n",
    "    [[3], [4]],\n",
    "    [[5], [6]]])\n",
    "print(\"3D array:\\n\",a)\n",
    "b = a[:2, :, 0]\n",
    "print(\"Extracted sub-array:\\n\",b)\n",
    "large_array = np.random.rand(3, 2, 2)\n",
    "extracted_elements = large_array[:2, :, 1]  # Extract from the second slice along the third axis\n",
    "print(\"Extracted sub-array with larger array:\\n\", extracted_elements)"
   ]
  },
  {
   "cell_type": "markdown",
   "id": "5dd472ad",
   "metadata": {},
   "source": [
    "**Q. Given an array of integers, use fancy indexing to extract elements at positions [1, 3, 4, 6].**"
   ]
  },
  {
   "cell_type": "code",
   "execution_count": 3,
   "id": "30ff2c6d",
   "metadata": {},
   "outputs": [
    {
     "name": "stdout",
     "output_type": "stream",
     "text": [
      "Integer array:\n",
      " [10 11 12 13 14 15 16 17 18 19]\n",
      "Result using fancy indexing:  [11 13 14 16]\n"
     ]
    }
   ],
   "source": [
    "arr = np.arange(10, 20)\n",
    "print(\"Integer array:\\n\",arr)\n",
    "a1 = arr[[1, 3, 4, 6]]\n",
    "print(\"Result using fancy indexing: \",a1)"
   ]
  },
  {
   "cell_type": "markdown",
   "id": "66358eef",
   "metadata": {},
   "source": [
    "**Q. Given a 2D array, use fancy indexing to select rows [0, 2, 2] and columns [1, 3].**"
   ]
  },
  {
   "cell_type": "code",
   "execution_count": 4,
   "id": "6d5947c1",
   "metadata": {},
   "outputs": [
    {
     "name": "stdout",
     "output_type": "stream",
     "text": [
      "2D array:\n",
      " [[5 7 7 3 5]\n",
      " [4 3 6 4 5]\n",
      " [5 3 9 2 4]\n",
      " [9 1 6 1 4]\n",
      " [7 6 5 6 9]]\n",
      "Using fancy indexing:  [7 2 2]\n"
     ]
    }
   ],
   "source": [
    "i = np.random.randint(1, 10, (5, 5))\n",
    "print(\"2D array:\\n\",i)\n",
    "selected_ones = i[[0, 2, 2], [1, 3, 3]] #the dimension must be same for both so took col:(1, 3, 3)\n",
    "print(\"Using fancy indexing: \", selected_ones)"
   ]
  },
  {
   "cell_type": "markdown",
   "id": "8bd2db8e",
   "metadata": {},
   "source": [
    "**Q. From a 1D array of random integers, extract all elements that are greater than 8.**"
   ]
  },
  {
   "cell_type": "code",
   "execution_count": 5,
   "id": "6decd50c",
   "metadata": {},
   "outputs": [
    {
     "name": "stdout",
     "output_type": "stream",
     "text": [
      "1D array of random integers:\n",
      " [ 9  2 15 18 18  1  4]\n",
      "Extracting all elements greater that 8:  [ 9 15 18 18]\n"
     ]
    }
   ],
   "source": [
    "j = np.random.randint(1, 20, 7)\n",
    "print(\"1D array of random integers:\\n\",j)\n",
    "print(\"Extracting all elements greater that 8: \", j[j>8])"
   ]
  },
  {
   "cell_type": "markdown",
   "id": "cda67f43",
   "metadata": {},
   "source": [
    "**Q. Given a 2D array of shape (6, 6), replace all elements greater than 13 with the value 0.**"
   ]
  },
  {
   "cell_type": "code",
   "execution_count": 6,
   "id": "70f426d7",
   "metadata": {},
   "outputs": [
    {
     "name": "stdout",
     "output_type": "stream",
     "text": [
      "2D array of shape (6, 6):\n",
      " [[24 19 11 12 13 24]\n",
      " [22  9 11  5  2  7]\n",
      " [24  5  8 14 20  8]\n",
      " [ 2 24 20 24 21 23]\n",
      " [11 15  3 16  9  7]\n",
      " [ 8 22 22  8  9 21]]\n",
      "Replacing all elements greater than 13 with the value 0:  [[ 0  0 11 12 13  0]\n",
      " [ 0  9 11  5  2  7]\n",
      " [ 0  5  8  0  0  8]\n",
      " [ 2  0  0  0  0  0]\n",
      " [11  0  3  0  9  7]\n",
      " [ 8  0  0  8  9  0]]\n"
     ]
    }
   ],
   "source": [
    "x = np.random.randint(1, 25, (6,6))\n",
    "print(\"2D array of shape (6, 6):\\n\",x)\n",
    "x[x>13] = 0\n",
    "print(\"Replacing all elements greater than 13 with the value 0: \", x)"
   ]
  },
  {
   "cell_type": "code",
   "execution_count": 7,
   "id": "7fc2c4d6",
   "metadata": {},
   "outputs": [
    {
     "name": "stdout",
     "output_type": "stream",
     "text": [
      "Replacing all elements greater than 30 with the value 100:  [ 30  23 100  12   8   9   4]\n"
     ]
    }
   ],
   "source": [
    "ar = np.array([30,23,67,12,8,9,4]) # for 1D array\n",
    "ar[ar > 30] = 100\n",
    "print(\"Replacing all elements greater than 30 with the value 100: \",ar)"
   ]
  },
  {
   "cell_type": "markdown",
   "id": "280cd81a",
   "metadata": {},
   "source": [
    "## **Broadcasting**\n",
    "- Broadcasting provides a means of vectorizing array operations so that looping occurs in C instead of Python. \n",
    "- It does this without making needless copies of data and usually leads to efficient algorithm implementations.\n",
    "\n",
    "**Q. Add a 1D array of shape (3,) to each row of a 2D array of shape (4, 3).**"
   ]
  },
  {
   "cell_type": "code",
   "execution_count": 8,
   "id": "518e4caa",
   "metadata": {},
   "outputs": [
    {
     "name": "stdout",
     "output_type": "stream",
     "text": [
      "1D array\n",
      " [10 20 30]\n",
      "2D array\n",
      " [[ 8  8  9]\n",
      " [23  9  2]\n",
      " [22  9 19]\n",
      " [ 3 11  1]]\n",
      "Addition of 1D (3,) and 2D (4,3) arrays: \n",
      " [[18 28 39]\n",
      " [33 29 32]\n",
      " [32 29 49]\n",
      " [13 31 31]]\n"
     ]
    }
   ],
   "source": [
    "array_1d = np.array([10, 20, 30])\n",
    "print(\"1D array\\n\",array_1d)\n",
    "array_2d = np.random.randint(1, 25, (4,3))\n",
    "print(\"2D array\\n\",array_2d)\n",
    "print(\"Addition of 1D (3,) and 2D (4,3) arrays: \\n\", array_2d+array_1d[None,:])"
   ]
  },
  {
   "cell_type": "markdown",
   "id": "7dd901d8",
   "metadata": {},
   "source": [
    "**Q. Multiply a 2D array of shape (3, 3) by a 1D array of shape (3,).**"
   ]
  },
  {
   "cell_type": "code",
   "execution_count": 9,
   "id": "764c465d",
   "metadata": {},
   "outputs": [
    {
     "name": "stdout",
     "output_type": "stream",
     "text": [
      "2D array:\n",
      " [[11  7  1]\n",
      " [17  8  2]\n",
      " [13  2  6]]\n",
      "Multiplication of 2D (3,3) by 1D (3,) arrays: \n",
      " [[110 140  30]\n",
      " [170 160  60]\n",
      " [130  40 180]]\n"
     ]
    }
   ],
   "source": [
    "arr_2d = np.random.randint(1, 25, (3,3))\n",
    "print(\"2D array:\\n\",arr_2d)\n",
    "print(\"Multiplication of 2D (3,3) by 1D (3,) arrays: \\n\", arr_2d*array_1d[None,:])"
   ]
  },
  {
   "cell_type": "markdown",
   "id": "13762505",
   "metadata": {},
   "source": [
    "**Q. Create two 2D arrays of shapes (3, 1) and (1, 4) respectively, and perform element-wise addition.**"
   ]
  },
  {
   "cell_type": "code",
   "execution_count": 10,
   "id": "fc16a349",
   "metadata": {},
   "outputs": [
    {
     "name": "stdout",
     "output_type": "stream",
     "text": [
      "1st 2D array:\n",
      " [[ 5]\n",
      " [10]\n",
      " [ 3]]\n",
      "2nd 2D array:\n",
      " [[18 12  6 10]]\n",
      "Addition of two 2D arrays of shapes (3, 1) and (1, 4):\n",
      " [[[23 17 11 15]\n",
      "  [28 22 16 20]\n",
      "  [21 15  9 13]]]\n"
     ]
    }
   ],
   "source": [
    "arr1 = np.random.randint(1, 20, (3,1))\n",
    "arr2 = np.random.randint(1, 20, (1,4))\n",
    "print(\"1st 2D array:\\n\", arr1)\n",
    "print(\"2nd 2D array:\\n\", arr2)\n",
    "print(\"Addition of two 2D arrays of shapes (3, 1) and (1, 4):\\n\", arr2+arr1[None,:])"
   ]
  },
  {
   "cell_type": "markdown",
   "id": "032e416c",
   "metadata": {},
   "source": [
    "**Q. Given a 3D array of shape (2, 3, 4), add a 2D array of shape (3, 4) to each 2D slice along the first axis.**"
   ]
  },
  {
   "cell_type": "code",
   "execution_count": 11,
   "id": "4cb2498f",
   "metadata": {},
   "outputs": [
    {
     "name": "stdout",
     "output_type": "stream",
     "text": [
      "1st 2D array:\n",
      " [[[ 1  2  3  4]\n",
      "  [ 5  6  7  8]\n",
      "  [ 9 10 11 12]]\n",
      "\n",
      " [[13 14 15 16]\n",
      "  [17 18 19 20]\n",
      "  [21 22 23 24]]]\n",
      "2nd 2D array:\n",
      " [[ 3 10  8  2]\n",
      " [ 1  4 16  2]\n",
      " [ 5  2 17  2]]\n",
      "Addition of 3D array of shape (2, 3, 4), add a 2D array of shape (3, 4) to each 2D slice along the first axis:\n",
      " [[[ 4 12 11  6]\n",
      "  [ 6 10 23 10]\n",
      "  [14 12 28 14]]\n",
      "\n",
      " [[16 24 23 18]\n",
      "  [18 22 35 22]\n",
      "  [26 24 40 26]]]\n"
     ]
    }
   ],
   "source": [
    "# A 3D array of shape (2, 3, 4)\n",
    "arr3 = np.array([[[ 1,  2,  3,  4],\n",
    "                 [ 5,  6,  7,  8],\n",
    "                 [ 9, 10, 11, 12]],\n",
    "                [[13, 14, 15, 16],\n",
    "                 [17, 18, 19, 20],\n",
    "                 [21, 22, 23, 24]]])\n",
    "arr4 = np.random.randint(1, 20, (3,4))\n",
    "print(\"1st 2D array:\\n\", arr3)\n",
    "print(\"2nd 2D array:\\n\", arr4)\n",
    "print(\"Addition of 3D array of shape (2, 3, 4), add a 2D array of shape (3, 4) to each 2D slice along the first axis:\\n\", arr3+arr4[None,:, :])"
   ]
  },
  {
   "cell_type": "markdown",
   "id": "5a093968",
   "metadata": {},
   "source": [
    "**Q. Given a 2D array, use slicing to extract every second row and every second column, then add a 1D array to each row of the sliced array.**"
   ]
  },
  {
   "cell_type": "code",
   "execution_count": 12,
   "id": "8c0568ef",
   "metadata": {},
   "outputs": [
    {
     "name": "stdout",
     "output_type": "stream",
     "text": [
      "2D array:\n",
      " [[ 9  3  9]\n",
      " [ 1  5  7]\n",
      " [ 4 10  5]]\n",
      "Every 2nd row and 2nd column by slicing:  [[9 9]\n",
      " [4 5]]\n",
      "1D array:\n",
      " [10 20 30]\n",
      "\n",
      "Result (adding 1D array to each row of sliced array): [[19 19]\n",
      " [34 35]]\n"
     ]
    }
   ],
   "source": [
    "arr_2d = np.random.randint(1, 15, (3,3))\n",
    "print(\"2D array:\\n\",arr_2d)\n",
    "arr_2d_s = arr_2d[::2, ::2]\n",
    "print(\"Every 2nd row and 2nd column by slicing: \", arr_2d_s)\n",
    "arr_1d = np.array([10, 20, 30])\n",
    "print(\"1D array:\\n\",arr_1d)\n",
    "result = arr_2d_s + arr_1d[::2, None]\n",
    "print(\"\\nResult (adding 1D array to each row of sliced array):\", result)"
   ]
  },
  {
   "cell_type": "markdown",
   "id": "dff53811",
   "metadata": {},
   "source": [
    "**Q. From a 3D array of shape (3, 2, 1), extract a sub-array using slicing and then use broadcasting to subtract a 2D array from each slice along the third axis.**"
   ]
  },
  {
   "cell_type": "code",
   "execution_count": 13,
   "id": "90b07af8",
   "metadata": {},
   "outputs": [
    {
     "name": "stdout",
     "output_type": "stream",
     "text": [
      "3D array:  [[[1]\n",
      "  [2]]\n",
      "\n",
      " [[3]\n",
      "  [4]]\n",
      "\n",
      " [[5]\n",
      "  [6]]]\n",
      "Extracted sub-array:  [[1 2]\n",
      " [3 4]]\n",
      "Result:\n",
      " [[[ -9 -18]\n",
      "  [ -7 -16]]\n",
      "\n",
      " [[-29 -38]\n",
      "  [-27 -36]]]\n"
     ]
    }
   ],
   "source": [
    "a = np.array([[[1], [2]],\n",
    "    [[3], [4]],\n",
    "    [[5], [6]]])\n",
    "print(\"3D array: \",a)\n",
    "b = a[:2, :, 0]\n",
    "print(\"Extracted sub-array: \",b)\n",
    "c = np.array([[10, 20], \n",
    "              [30, 40]])\n",
    "result = b - c[:, None, :]\n",
    "print(\"Result:\\n\", result)"
   ]
  },
  {
   "cell_type": "markdown",
   "id": "bf485345",
   "metadata": {},
   "source": [
    "**Q. Given a 2D array, extract the diagonal elements and create a 1D array.**"
   ]
  },
  {
   "cell_type": "code",
   "execution_count": 14,
   "id": "c9193764",
   "metadata": {},
   "outputs": [
    {
     "name": "stdout",
     "output_type": "stream",
     "text": [
      "2D array:\n",
      " [[ 6 13  9]\n",
      " [ 1 14  6]\n",
      " [11 12 10]]\n",
      "Diagonal elements:  [ 6 14 10]\n"
     ]
    }
   ],
   "source": [
    "a_2d = np.random.randint(1, 15, (3,3))\n",
    "print(\"2D array:\\n\",a_2d)\n",
    "print(\"Diagonal elements: \",np.diag(a_2d))"
   ]
  },
  {
   "cell_type": "markdown",
   "id": "42283344",
   "metadata": {},
   "source": [
    "**Q. Use slicing to reverse the order of elements in each row of a 2D array.**"
   ]
  },
  {
   "cell_type": "code",
   "execution_count": 15,
   "id": "d6aebe5b",
   "metadata": {},
   "outputs": [
    {
     "name": "stdout",
     "output_type": "stream",
     "text": [
      "2D array:\n",
      " [[ 2 13 11]\n",
      " [ 9 11  4]\n",
      " [10 14  5]]\n",
      "Reverse:\n",
      " [[10 14  5]\n",
      " [ 9 11  4]\n",
      " [ 2 13 11]]\n"
     ]
    }
   ],
   "source": [
    "a_2d = np.random.randint(1, 15, (3,3))\n",
    "print(\"2D array:\\n\",a_2d)\n",
    "print(\"Reverse:\\n\",a_2d[::-1])"
   ]
  },
  {
   "cell_type": "markdown",
   "id": "91c8a1ed",
   "metadata": {},
   "source": [
    "**Q. Given a 3D array of shape (7, 6, 5), use slicing to extract a sub-array of shape (2, 3, 4) and then use broadcasting to add a 1D array of shape (4,) to each row along the third axis.**"
   ]
  },
  {
   "cell_type": "code",
   "execution_count": 16,
   "id": "9831993b",
   "metadata": {},
   "outputs": [
    {
     "name": "stdout",
     "output_type": "stream",
     "text": [
      "3D array:\n",
      " [[[ 4  7  7 10  8]\n",
      "  [ 9  2 10  3  4]\n",
      "  [ 2  8 10  2  7]\n",
      "  [ 5  1  2 10  6]\n",
      "  [ 8  2  7  5  6]\n",
      "  [ 2  3  1  2 10]]\n",
      "\n",
      " [[ 6  5  7  6  8]\n",
      "  [ 4 10  8  4  2]\n",
      "  [ 6  4  4  8  9]\n",
      "  [ 6 10  3  9  3]\n",
      "  [ 5  8  7  9  2]\n",
      "  [ 6  7  5  4 10]]\n",
      "\n",
      " [[ 2 10  9  3 10]\n",
      "  [ 7  6  4 10  8]\n",
      "  [ 9  7  9  5  4]\n",
      "  [ 5  7  8  4  8]\n",
      "  [ 1 10  1  2  2]\n",
      "  [ 2  3  5  7  2]]\n",
      "\n",
      " [[ 3  8  8  4  2]\n",
      "  [ 1  9  8  5  7]\n",
      "  [ 9  4  3  2 10]\n",
      "  [ 9  5  3  9  4]\n",
      "  [ 6  1  8  9  1]\n",
      "  [ 5  1  5 10  2]]\n",
      "\n",
      " [[ 9  8  1  5  4]\n",
      "  [ 9  5  7  1  8]\n",
      "  [ 2  5  1  4  6]\n",
      "  [10  6  2  2  4]\n",
      "  [ 6  2  9  1  9]\n",
      "  [ 7  2  5  9 10]]\n",
      "\n",
      " [[ 5  4  8  4 10]\n",
      "  [ 8  4  7  6  5]\n",
      "  [ 8  5  4  6  6]\n",
      "  [ 3  8  8  4  4]\n",
      "  [ 3  4  3  7  1]\n",
      "  [ 9  4  5  1 10]]\n",
      "\n",
      " [[ 9  4 10  1  2]\n",
      "  [ 3  4 10  9  2]\n",
      "  [ 3  1  6  7  5]\n",
      "  [ 2  7  5  6  2]\n",
      "  [10  4  3  8  4]\n",
      "  [ 8  1  7  9 10]]]\n",
      "\n",
      "Extracted sub-array:\n",
      " [[[ 7  6  4 10]\n",
      "  [ 9  7  9  5]\n",
      "  [ 5  7  8  4]]\n",
      "\n",
      " [[ 1  9  8  5]\n",
      "  [ 9  4  3  2]\n",
      "  [ 9  5  3  9]]]\n",
      "\n",
      "Result (adding 1D array to each row along the third axis):\n",
      " [[[107 206 304 410]\n",
      "  [109 207 309 405]\n",
      "  [105 207 308 404]]\n",
      "\n",
      " [[101 209 308 405]\n",
      "  [109 204 303 402]\n",
      "  [109 205 303 409]]]\n"
     ]
    }
   ],
   "source": [
    "arr3d = np.random.randint(1, 11, (7, 6, 5))\n",
    "\n",
    "sub_arr = arr3d[2:4, 1:4, 0:4]\n",
    "arr1d = np.array([100, 200, 300, 400])\n",
    "result = sub_arr + arr1d[None, None, :]\n",
    "print(\"3D array:\\n\", arr3d)\n",
    "print(\"\\nExtracted sub-array:\\n\", sub_arr)\n",
    "print(\"\\nResult (adding 1D array to each row along the third axis):\\n\", result)"
   ]
  },
  {
   "cell_type": "markdown",
   "id": "77137511",
   "metadata": {},
   "source": [
    "**Q. Create a 2D array and use both slicing and broadcasting to set the last column to the sum of the first two columns for each row.**"
   ]
  },
  {
   "cell_type": "code",
   "execution_count": 18,
   "id": "0fc648d7",
   "metadata": {},
   "outputs": [
    {
     "name": "stdout",
     "output_type": "stream",
     "text": [
      "2D array:\n",
      " [[ 3  6  2  9]\n",
      " [ 2  8 10 10]\n",
      " [ 9  1  4 10]\n",
      " [ 4  9 10 13]\n",
      " [ 9  6  6 15]]\n"
     ]
    }
   ],
   "source": [
    "arr2d = np.random.randint(1, 11, (5, 4))\n",
    "# Set the last column to the sum of the first two columns for each row using slicing and broadcasting\n",
    "arr2d[:, -1] = arr2d[:, 0] + arr2d[:, 1]\n",
    "print(\"2D array:\\n\", arr2d)"
   ]
  },
  {
   "cell_type": "markdown",
   "id": "15bfeaa1",
   "metadata": {},
   "source": [
    "# **The End :)**"
   ]
  }
 ],
 "metadata": {
  "kernelspec": {
   "display_name": "Python 3",
   "language": "python",
   "name": "python3"
  },
  "language_info": {
   "codemirror_mode": {
    "name": "ipython",
    "version": 3
   },
   "file_extension": ".py",
   "mimetype": "text/x-python",
   "name": "python",
   "nbconvert_exporter": "python",
   "pygments_lexer": "ipython3",
   "version": "3.8.8"
  }
 },
 "nbformat": 4,
 "nbformat_minor": 5
}
