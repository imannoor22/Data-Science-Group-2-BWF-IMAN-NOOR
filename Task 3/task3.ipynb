{
 "cells": [
  {
   "cell_type": "markdown",
   "id": "9061fa98-2cd2-484a-92f7-acb5438d58da",
   "metadata": {},
   "source": [
    "# **BYTEWISE FELLOW DATA SCIENCE**"
   ]
  },
  {
   "cell_type": "markdown",
   "id": "ea36aa1a-ebe4-402f-a1e6-83de2be72029",
   "metadata": {},
   "source": [
    "### **Name: Iman Noor**\n",
    "\n",
    "### **Email: imannoor2125@gmail.com**"
   ]
  },
  {
   "cell_type": "markdown",
   "id": "8cb1c45e-2b64-4ce2-a73a-c37d18c44b04",
   "metadata": {},
   "source": [
    "## **Code**"
   ]
  },
  {
   "cell_type": "code",
   "execution_count": 7,
   "id": "3fb23f4b-fb16-4dca-91df-b19ecd57dfbb",
   "metadata": {},
   "outputs": [
    {
     "name": "stdout",
     "output_type": "stream",
     "text": [
      "Welcome to Data Science World! Iman Noor :)\n"
     ]
    }
   ],
   "source": [
    "a = \"Iman Noor :)\"\n",
    "def show_output():\n",
    "    print(\"Welcome to Data Science World!\", a)\n",
    "    \n",
    "show_output()"
   ]
  },
  {
   "cell_type": "markdown",
   "id": "c76f25f4-c074-4ed8-a6b5-dab0f68213e6",
   "metadata": {},
   "source": [
    "## **HEADINGS**\n",
    "\n",
    "# Heading 1\n",
    "## Heading 2\n",
    "### Heading 3\n",
    "#### Heading 4"
   ]
  },
  {
   "cell_type": "markdown",
   "id": "20bf22d1-fa57-49ae-93f7-f141361daa14",
   "metadata": {},
   "source": [
    "## Unordered List \n",
    "\n",
    "* Item 1\n",
    "* Item 2\n",
    "    * sub-list\n",
    " \n",
    "## Ordered List \n",
    "\n",
    "1. Item 1\n",
    "2. Item 2\n",
    "    1. sub-list"
   ]
  },
  {
   "cell_type": "markdown",
   "id": "c190c6ea-e0b9-47f0-93b3-e52fbbe8efa9",
   "metadata": {},
   "source": [
    "## Latex Equation\n",
    "\n",
    "$e^{i/lambda} + pi = 0$\n",
    "$$e^x=\\sum {i=\\gamma}^\\theta \\frac{1}{1!}x^i$$"
   ]
  }
 ],
 "metadata": {
  "kernelspec": {
   "display_name": "Python 3 (ipykernel)",
   "language": "python",
   "name": "python3"
  },
  "language_info": {
   "codemirror_mode": {
    "name": "ipython",
    "version": 3
   },
   "file_extension": ".py",
   "mimetype": "text/x-python",
   "name": "python",
   "nbconvert_exporter": "python",
   "pygments_lexer": "ipython3",
   "version": "3.11.1"
  }
 },
 "nbformat": 4,
 "nbformat_minor": 5
}
