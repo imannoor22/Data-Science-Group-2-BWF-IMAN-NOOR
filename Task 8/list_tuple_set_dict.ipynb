{
 "cells": [
  {
   "cell_type": "markdown",
   "id": "ade183fc",
   "metadata": {},
   "source": [
    "# Iman Noor\n",
    "# Submission date: 23-06-2024"
   ]
  },
  {
   "cell_type": "markdown",
   "id": "8d6b2421",
   "metadata": {},
   "source": [
    "## **List**\n",
    "\n",
    "- Python Lists are just like `dynamic-sized arrays`, declared in other languages (vector in C++ and ArrayList in Java). \n",
    "- Lists need not be homogeneous always which makes it the most powerful tool in Python.\n",
    "\n",
    "### **Applications of List**\n",
    "\n",
    "- Used in `JSON` format\n",
    "- Useful for `Array` operations\n",
    "- Used in `Databases`"
   ]
  },
  {
   "cell_type": "code",
   "execution_count": 1,
   "id": "976af652",
   "metadata": {},
   "outputs": [],
   "source": [
    "# creation of list\n",
    "my_list = [1,2,3,4]"
   ]
  },
  {
   "cell_type": "code",
   "execution_count": 2,
   "id": "1119cdf7",
   "metadata": {},
   "outputs": [
    {
     "data": {
      "text/plain": [
       "1"
      ]
     },
     "execution_count": 2,
     "metadata": {},
     "output_type": "execute_result"
    }
   ],
   "source": [
    "# accessing elements \n",
    "my_list[0]"
   ]
  },
  {
   "cell_type": "code",
   "execution_count": 3,
   "id": "a6a0bf92",
   "metadata": {},
   "outputs": [],
   "source": [
    "# modifying elements\n",
    "my_list[2]=5"
   ]
  },
  {
   "cell_type": "code",
   "execution_count": 4,
   "id": "7fa09a16",
   "metadata": {},
   "outputs": [],
   "source": [
    "# adding elements to list\n",
    "my_list.append(6)"
   ]
  },
  {
   "cell_type": "code",
   "execution_count": 5,
   "id": "e598d42d",
   "metadata": {},
   "outputs": [],
   "source": [
    "# removing elements from list\n",
    "my_list.remove(4)"
   ]
  },
  {
   "cell_type": "code",
   "execution_count": 6,
   "id": "33f79221",
   "metadata": {},
   "outputs": [
    {
     "data": {
      "text/plain": [
       "[1, 2, 5, 6]"
      ]
     },
     "execution_count": 6,
     "metadata": {},
     "output_type": "execute_result"
    }
   ],
   "source": [
    "my_list"
   ]
  },
  {
   "cell_type": "markdown",
   "id": "8cc7945d",
   "metadata": {},
   "source": [
    "## **Tuple**\n",
    "- A Tuple is a collection of Python objects separated by `commas`. \n",
    "- In some ways, a tuple is similar to a list in terms of indexing, nested objects, and repetition but a tuple is immutable, unlike lists that are mutable.\n",
    "\n",
    "### **Applications of Tuple**\n",
    "\n",
    "- Used to insert records in the database through SQL query at a time.Ex: (1.’sravan’, 34).(2.’geek’, 35)\n",
    "- Used in `parentheses checker`"
   ]
  },
  {
   "cell_type": "code",
   "execution_count": 7,
   "id": "a1ab9d49",
   "metadata": {},
   "outputs": [],
   "source": [
    "# creation of tuple\n",
    "my_tuple = (5,6,7,8)"
   ]
  },
  {
   "cell_type": "code",
   "execution_count": 8,
   "id": "1a0eed89",
   "metadata": {},
   "outputs": [
    {
     "data": {
      "text/plain": [
       "5"
      ]
     },
     "execution_count": 8,
     "metadata": {},
     "output_type": "execute_result"
    }
   ],
   "source": [
    "# accessing elements \n",
    "my_tuple[0]"
   ]
  },
  {
   "cell_type": "code",
   "execution_count": 9,
   "id": "afe46f1b",
   "metadata": {},
   "outputs": [
    {
     "ename": "TypeError",
     "evalue": "'tuple' object does not support item assignment",
     "output_type": "error",
     "traceback": [
      "\u001b[1;31m---------------------------------------------------------------------------\u001b[0m",
      "\u001b[1;31mTypeError\u001b[0m                                 Traceback (most recent call last)",
      "\u001b[1;32m<ipython-input-9-eb7bf0f00a88>\u001b[0m in \u001b[0;36m<module>\u001b[1;34m\u001b[0m\n\u001b[0;32m      1\u001b[0m \u001b[1;31m# let's change its values\u001b[0m\u001b[1;33m\u001b[0m\u001b[1;33m\u001b[0m\u001b[1;33m\u001b[0m\u001b[0m\n\u001b[1;32m----> 2\u001b[1;33m \u001b[0mmy_tuple\u001b[0m\u001b[1;33m[\u001b[0m\u001b[1;36m1\u001b[0m\u001b[1;33m]\u001b[0m\u001b[1;33m=\u001b[0m\u001b[1;36m2\u001b[0m\u001b[1;33m\u001b[0m\u001b[1;33m\u001b[0m\u001b[0m\n\u001b[0m",
      "\u001b[1;31mTypeError\u001b[0m: 'tuple' object does not support item assignment"
     ]
    }
   ],
   "source": [
    "# let's change its values\n",
    "my_tuple[1]=2"
   ]
  },
  {
   "cell_type": "markdown",
   "id": "5ab03584",
   "metadata": {},
   "source": [
    "### **Immutable nature: Elements cannot be modified after creation in tuple.**"
   ]
  },
  {
   "cell_type": "markdown",
   "id": "8b34f55b",
   "metadata": {},
   "source": [
    "## **Set**\n",
    "- A Python Set is an `unordered` collection data type that is iterable, mutable and has no duplicate elements. \n",
    "- Python’s set class represents the mathematical notion of a set.\n",
    "\n",
    "### **Applications of Tuple**\n",
    "\n",
    "- Finding unique elements\n",
    "- `Join` operations"
   ]
  },
  {
   "cell_type": "code",
   "execution_count": 10,
   "id": "88084621",
   "metadata": {},
   "outputs": [],
   "source": [
    "# creation of tuple\n",
    "my_set = {1,3,5,7}"
   ]
  },
  {
   "cell_type": "code",
   "execution_count": 11,
   "id": "ec0f68c5",
   "metadata": {},
   "outputs": [],
   "source": [
    "# adding elements\n",
    "my_set.add(2)"
   ]
  },
  {
   "cell_type": "code",
   "execution_count": 12,
   "id": "1a64dcd4",
   "metadata": {},
   "outputs": [
    {
     "data": {
      "text/plain": [
       "{1, 2, 3, 5, 7}"
      ]
     },
     "execution_count": 12,
     "metadata": {},
     "output_type": "execute_result"
    }
   ],
   "source": [
    "my_set"
   ]
  },
  {
   "cell_type": "code",
   "execution_count": 13,
   "id": "ffbfc8b7",
   "metadata": {},
   "outputs": [],
   "source": [
    "# removing elements\n",
    "my_set.remove(1)"
   ]
  },
  {
   "cell_type": "code",
   "execution_count": 14,
   "id": "fd1723db",
   "metadata": {},
   "outputs": [
    {
     "data": {
      "text/plain": [
       "{2, 3, 5, 7}"
      ]
     },
     "execution_count": 14,
     "metadata": {},
     "output_type": "execute_result"
    }
   ],
   "source": [
    "my_set"
   ]
  },
  {
   "cell_type": "markdown",
   "id": "ac840ca6",
   "metadata": {},
   "source": [
    "### **Unique elements: No duplicates allowed in set.**"
   ]
  },
  {
   "cell_type": "markdown",
   "id": "d7ec38fd",
   "metadata": {},
   "source": [
    "## **Dictionary**\n",
    "- Dictionary in Python is an `ordered` collection of data values, used to store data values like a map, which, unlike other Data Types that hold only a single value as an element, Dictionary holds **key:value** pair. \n",
    "- Key-value is provided in the dictionary to make it more optimized.\n",
    "\n",
    "### **Applications of Dictionary**\n",
    "\n",
    "- Used to create a `data frame` with lists\n",
    "- Used in `JSON`"
   ]
  },
  {
   "cell_type": "code",
   "execution_count": 22,
   "id": "278de27d",
   "metadata": {},
   "outputs": [],
   "source": [
    "# creation of dictionary\n",
    "my_dict = {'a':1, 'b':2, 'c':3}"
   ]
  },
  {
   "cell_type": "code",
   "execution_count": 23,
   "id": "1a0d3661",
   "metadata": {},
   "outputs": [
    {
     "data": {
      "text/plain": [
       "2"
      ]
     },
     "execution_count": 23,
     "metadata": {},
     "output_type": "execute_result"
    }
   ],
   "source": [
    "# accessing elements\n",
    "my_dict['b']"
   ]
  },
  {
   "cell_type": "code",
   "execution_count": 24,
   "id": "50b225db",
   "metadata": {},
   "outputs": [],
   "source": [
    "# modifying elements\n",
    "my_dict['a']=4"
   ]
  },
  {
   "cell_type": "code",
   "execution_count": 25,
   "id": "f95a6d86",
   "metadata": {},
   "outputs": [],
   "source": [
    "# adding elements\n",
    "my_dict['d']=5"
   ]
  },
  {
   "cell_type": "code",
   "execution_count": 26,
   "id": "ae7d4d2b",
   "metadata": {},
   "outputs": [
    {
     "data": {
      "text/plain": [
       "{'a': 4, 'b': 2, 'c': 3, 'd': 5}"
      ]
     },
     "execution_count": 26,
     "metadata": {},
     "output_type": "execute_result"
    }
   ],
   "source": [
    "my_dict"
   ]
  },
  {
   "cell_type": "code",
   "execution_count": 27,
   "id": "c68b1014",
   "metadata": {},
   "outputs": [],
   "source": [
    "# removing elements\n",
    "del my_dict['c']"
   ]
  },
  {
   "cell_type": "code",
   "execution_count": 28,
   "id": "9bdc5a2d",
   "metadata": {},
   "outputs": [
    {
     "data": {
      "text/plain": [
       "{'a': 4, 'b': 2, 'd': 5}"
      ]
     },
     "execution_count": 28,
     "metadata": {},
     "output_type": "execute_result"
    }
   ],
   "source": [
    "my_dict"
   ]
  }
 ],
 "metadata": {
  "kernelspec": {
   "display_name": "Python 3",
   "language": "python",
   "name": "python3"
  },
  "language_info": {
   "codemirror_mode": {
    "name": "ipython",
    "version": 3
   },
   "file_extension": ".py",
   "mimetype": "text/x-python",
   "name": "python",
   "nbconvert_exporter": "python",
   "pygments_lexer": "ipython3",
   "version": "3.8.8"
  }
 },
 "nbformat": 4,
 "nbformat_minor": 5
}
