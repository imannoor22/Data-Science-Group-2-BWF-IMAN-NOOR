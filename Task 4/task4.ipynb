{
 "cells": [
  {
   "cell_type": "code",
   "execution_count": 23,
   "id": "f30d0747",
   "metadata": {},
   "outputs": [
    {
     "name": "stdout",
     "output_type": "stream",
     "text": [
      "Welcome to Magical World of Bytewise World!\n",
      "\n",
      "Enter 1st number: 3\n",
      "Enter 2nd number: 5\n",
      "Division:  0.6\n",
      "Multiplication:  15.0\n",
      "Addition:  8.0\n",
      "Subtraction:  -2.0\n"
     ]
    }
   ],
   "source": [
    "print(\"Welcome to Magical World of Bytewise World!\\n\")\n",
    "a = float(input(\"Enter 1st number: \"))\n",
    "b = float(input(\"Enter 2nd number: \"))\n",
    "\n",
    "print(\"Division: \", a/b)\n",
    "print(\"Multiplication: \", a*b)\n",
    "print(\"Addition: \", a+b)\n",
    "print(\"Subtraction: \", a-b)"
   ]
  },
  {
   "cell_type": "code",
   "execution_count": 24,
   "id": "5db0419f",
   "metadata": {},
   "outputs": [
    {
     "name": "stdout",
     "output_type": "stream",
     "text": [
      "\n",
      "~~~~~~~~~~~~~~~~~~~~~~~~~~~~~~~~~~~~~~~~~~~~~~~~~~~~~~~~~~\n",
      "       * * * * * * * * * * * * * * * * * * * * * * * *\n",
      "      *                                               *\n",
      "     *    Welcome to the Magical World of Bytewise!      *\n",
      "    *                                                   *\n",
      "      *                                                *\n",
      "       * * * * * * * * * * * * * * * * * * * * * * * *\n",
      "~~~~~~~~~~~~~~~~~~~~~~~~~~~~~~~~~~~~~~~~~~~~~~~~~~~~~~~~~~\n",
      "\n",
      "Enter 1st magical number: 2\n",
      "Enter 2nd magical number: 3\n",
      "Enter Magical operation you want to perform(+, -, *, /): *\n",
      "✨Result after '*' operation is 6.0\n"
     ]
    }
   ],
   "source": [
    "def DMAS(op, a, b):\n",
    "    if op == \"/\":\n",
    "        return a/b\n",
    "    elif op == \"*\":\n",
    "        return a*b\n",
    "    elif op == \"+\":\n",
    "        return a+b\n",
    "    elif op == \"-\":\n",
    "        return a-b\n",
    "    else:\n",
    "        return \"Invalid operation\"\n",
    "  \n",
    "print(\"\"\"\n",
    "~~~~~~~~~~~~~~~~~~~~~~~~~~~~~~~~~~~~~~~~~~~~~~~~~~~~~~~~~~\n",
    "       * * * * * * * * * * * * * * * * * * * * * * * *\n",
    "      *                                               *\n",
    "     *    Welcome to the Magical World of Bytewise!      *\n",
    "    *                                                   *\n",
    "      *                                                *\n",
    "       * * * * * * * * * * * * * * * * * * * * * * * *\n",
    "~~~~~~~~~~~~~~~~~~~~~~~~~~~~~~~~~~~~~~~~~~~~~~~~~~~~~~~~~~\n",
    "\"\"\")\n",
    "a = float(input(\"Enter 1st magical number: \"))\n",
    "b = float(input(\"Enter 2nd magical number: \"))\n",
    "op = input(\"Enter Magical operation you want to perform(+, -, *, /): \")\n",
    "result = DMAS(op, a, b)\n",
    "print(f\"✨Result after '{op}' operation is {result}\")"
   ]
  }
 ],
 "metadata": {
  "kernelspec": {
   "display_name": "Python 3",
   "language": "python",
   "name": "python3"
  },
  "language_info": {
   "codemirror_mode": {
    "name": "ipython",
    "version": 3
   },
   "file_extension": ".py",
   "mimetype": "text/x-python",
   "name": "python",
   "nbconvert_exporter": "python",
   "pygments_lexer": "ipython3",
   "version": "3.8.8"
  }
 },
 "nbformat": 4,
 "nbformat_minor": 5
}
