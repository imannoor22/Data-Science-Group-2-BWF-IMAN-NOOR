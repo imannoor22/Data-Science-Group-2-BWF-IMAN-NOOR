{
 "cells": [
  {
   "cell_type": "markdown",
   "id": "8c8e2490",
   "metadata": {},
   "source": [
    "# File Handling & Exception Handling"
   ]
  },
  {
   "cell_type": "markdown",
   "id": "e48d0110",
   "metadata": {},
   "source": [
    "Python includes many functions for `creating`, `reading`, `updating` and `deleting` files.\n",
    "\n",
    "## Understanding Basic operations"
   ]
  },
  {
   "cell_type": "markdown",
   "id": "dbaa7eeb",
   "metadata": {},
   "source": [
    "## 1. **Reading Files:**\n",
    "- Open a file in ('`rt`') mode `r` for read and `t` for text (default values no need to specify them) using the `open()` function.\n",
    "- Use the `read()` method to read the contents of the file.\n",
    "- Close the file using the `close()` method."
   ]
  },
  {
   "cell_type": "code",
   "execution_count": 2,
   "id": "1ba738b9",
   "metadata": {},
   "outputs": [
    {
     "name": "stdout",
     "output_type": "stream",
     "text": [
      "Believe you can and you're halfway there.\n",
      "The only way to do great work is to love what you do.\n"
     ]
    }
   ],
   "source": [
    "f = open(\"task6.txt\")\n",
    "print(f.read())"
   ]
  },
  {
   "cell_type": "markdown",
   "id": "cb4c1ce8",
   "metadata": {},
   "source": [
    "**`Returning the firstline of file` and closing the file**"
   ]
  },
  {
   "cell_type": "code",
   "execution_count": 3,
   "id": "35afffb0",
   "metadata": {},
   "outputs": [
    {
     "name": "stdout",
     "output_type": "stream",
     "text": [
      "Believe you can and you're halfway there.\n",
      "\n"
     ]
    }
   ],
   "source": [
    "f = open(\"task6.txt\",\"r\")\n",
    "print(f.readline())\n",
    "f.close()"
   ]
  },
  {
   "cell_type": "markdown",
   "id": "fdc9f0f3",
   "metadata": {},
   "source": [
    "## 2. **Writing Files:**\n",
    "- Open a file in write ('`w`') and append mode ('`a`') using the `open()` function.\n",
    "- Use the `write()` method to write to the file.\n",
    "- Close the file using the `close()` method."
   ]
  },
  {
   "cell_type": "code",
   "execution_count": 4,
   "id": "da387b7f",
   "metadata": {},
   "outputs": [
    {
     "name": "stdout",
     "output_type": "stream",
     "text": [
      "Believe you can and you're halfway there.\n",
      "The only way to do great work is to love what you do.File content is appended\n"
     ]
    }
   ],
   "source": [
    "f = open(\"task6.txt\", \"a\")\n",
    "f.write(\"File content is appended\")\n",
    "f.close()\n",
    "\n",
    "# append done and we'll read the appended file\n",
    "f = open(\"task6.txt\", \"r\")\n",
    "print(f.read())"
   ]
  },
  {
   "cell_type": "code",
   "execution_count": 5,
   "id": "a37a031e",
   "metadata": {},
   "outputs": [
    {
     "name": "stdout",
     "output_type": "stream",
     "text": [
      "Oops! File content is deleted!(overwritten)\n"
     ]
    }
   ],
   "source": [
    "f = open(\"task6.txt\", \"w\")\n",
    "f.write(\"Oops! File content is deleted!(overwritten)\")\n",
    "f.close()\n",
    "\n",
    "# append done and we'll read the appended file\n",
    "f = open(\"task6.txt\", \"r\")\n",
    "print(f.read())"
   ]
  },
  {
   "cell_type": "markdown",
   "id": "fe3f2e5f",
   "metadata": {},
   "source": [
    "## 3. **Creating New File:**\n",
    "- Open a file in '`x`' mode and in '`w`' mode if it does not exist using the `open()` function.\n",
    "- Use the `write()` method to write to the file.\n",
    "- Close the file using the `close()` method."
   ]
  },
  {
   "cell_type": "code",
   "execution_count": 6,
   "id": "0daa3c70",
   "metadata": {},
   "outputs": [
    {
     "name": "stdout",
     "output_type": "stream",
     "text": [
      "File successfully created and content is written\n",
      "This is my new file. Hello Bytewise!\n",
      "You can write anything here\n"
     ]
    }
   ],
   "source": [
    "f = open(\"newfile.txt\", \"w\")\n",
    "f.write(\"This is my new file. Hello Bytewise!\\nYou can write anything here\")\n",
    "print(\"File successfully created and content is written\")\n",
    "f.close()\n",
    "\n",
    "# reading the new file\n",
    "f = open(\"newfile.txt\", \"r\")\n",
    "print(f.read())"
   ]
  },
  {
   "cell_type": "markdown",
   "id": "50b6d7ce",
   "metadata": {},
   "source": [
    "## 4. **Error Handling:**\n",
    "- Use a `try-except` block to handle errors that may occur while performing file operations."
   ]
  },
  {
   "cell_type": "code",
   "execution_count": 7,
   "id": "2a4d1cb0",
   "metadata": {},
   "outputs": [
    {
     "name": "stdout",
     "output_type": "stream",
     "text": [
      "This is my new file. Hello Bytewise!\n",
      "You can write anything here\n"
     ]
    }
   ],
   "source": [
    "try:\n",
    "    with open(\"newfile.txt\", \"r\") as file:\n",
    "        print(file.read())\n",
    "except FileNotFoundError:\n",
    "    print(\"The file does not exist.\")\n",
    "except PermissionError:\n",
    "    print(\"You don't have permission to access this file.\")\n",
    "except Exception as e:\n",
    "    print(f\"An unexpected error occurred: {e}\")"
   ]
  },
  {
   "cell_type": "markdown",
   "id": "ba66613c",
   "metadata": {},
   "source": [
    "## 4. **Deleting File:**\n",
    "- File can be deleted using `remove` by importing `os`."
   ]
  },
  {
   "cell_type": "code",
   "execution_count": 8,
   "id": "23bd0131",
   "metadata": {},
   "outputs": [
    {
     "name": "stdout",
     "output_type": "stream",
     "text": [
      "The file is currently in use and cannot be deleted.\n"
     ]
    }
   ],
   "source": [
    "import os\n",
    "\n",
    "try:\n",
    "    if os.path.exists(\"newfile.txt\"):\n",
    "        os.remove(\"newfile.txt\")\n",
    "    else:\n",
    "        print(\"File does not exist\")\n",
    "except PermissionError:\n",
    "    print(\"The file is currently in use and cannot be deleted.\")\n",
    "except Exception as e:\n",
    "    print(f\"An unexpected error occurred: {e}\")"
   ]
  },
  {
   "cell_type": "markdown",
   "id": "3cf91a61",
   "metadata": {},
   "source": [
    "# MINI PROJECT\n",
    "\n",
    "## INVENTORY MANAGEMENT SYSTEM\n",
    "\n",
    "**Library Initialization**\n",
    "\n",
    "- Initialize an empty dictionary named `inventory` to store product information.\n",
    "\n",
    "**Function Definitions**\n",
    "\n",
    "- **add_product():** Adds a new product to the inventory.\n",
    "- **update_product():** Updates the details of an existing product in the inventory.\n",
    "- **delete_product():** Removes a product from the inventory.\n",
    "- **view_inventory():** Displays the current inventory.\n",
    "- **search_product():** Searches for a specific product in the inventory.\n",
    "- **generate_report():** Generates a report on the inventory.\n",
    "\n",
    "**Main Program**\n",
    "- The main program runs in an infinite loop, displaying the menu options(add, update, delete, view, search, or generate a report) and allowing the user to choose an action. The chosen action is executed, and the program then returns to the menu.\n",
    "- User inputs are validated to ensure they are correct and appropriate actions are taken based on choices.\n",
    "\n",
    "**Saving the Inventory**\n",
    "- The inventory is saved to a file named `inventory.txt` after each operation. If there is an error saving the file, an error message is displayed."
   ]
  },
  {
   "cell_type": "code",
   "execution_count": 9,
   "id": "b869dad1",
   "metadata": {},
   "outputs": [],
   "source": [
    "import os\n",
    "\n",
    "# initialize the inventory dictionary\n",
    "inventory = {}"
   ]
  },
  {
   "cell_type": "code",
   "execution_count": 10,
   "id": "9f5f4c22",
   "metadata": {},
   "outputs": [],
   "source": [
    "if not os.path.exists(\"inventory.txt\"):\n",
    "    with open(\"inventory.txt\", \"w\") as file:\n",
    "        pass"
   ]
  },
  {
   "cell_type": "code",
   "execution_count": 11,
   "id": "c5d97183",
   "metadata": {},
   "outputs": [],
   "source": [
    "# load inventory data from file\n",
    "try:\n",
    "    with open(\"inventory.txt\", \"r\") as file:\n",
    "        for line in file:\n",
    "            product_name, product_id, product_description, product_price, product_quantity = line.strip().split(\",\")\n",
    "            inventory[product_name] = {\n",
    "                \"id\": product_id,\n",
    "                \"description\": product_description,\n",
    "                \"price\": float(product_price),\n",
    "                \"quantity\": int(product_quantity)\n",
    "            }\n",
    "except FileNotFoundError:\n",
    "    print(\"Inventory file not found. Starting with an empty inventory.\")\n",
    "except ValueError:\n",
    "    print(\"Error: Invalid data format in the inventory file.\")\n",
    "except Exception as e:\n",
    "    print(f\"An unexpected error occurred while loading the inventory: {e}\")"
   ]
  },
  {
   "cell_type": "code",
   "execution_count": 12,
   "id": "6553cca8",
   "metadata": {},
   "outputs": [],
   "source": [
    "def add_product():\n",
    "  product_id = int(input(\"Enter product id: \"))\n",
    "  product_name = input(\"Enter product name: \")\n",
    "  product_description = input(\"Enter product description: \")\n",
    "  product_price = float(input(\"Enter product price: \"))\n",
    "  product_quantity = int(input(\"Enter product quantity: \"))\n",
    "  inventory[product_name] = {\n",
    "      \"id\":product_id,\n",
    "      \"description\":product_description,\n",
    "      \"price\":product_price,\n",
    "      \"quantity\":product_quantity\n",
    "  }\n",
    "  print(\"Product successfully added!\")"
   ]
  },
  {
   "cell_type": "code",
   "execution_count": 13,
   "id": "68a2a4db",
   "metadata": {},
   "outputs": [],
   "source": [
    "def update_product():\n",
    "  product_id = int(input(\"Enter product id: \"))\n",
    "  product_name = input(\"Enter product name: \")\n",
    "  if product_id and product_name in inventory:\n",
    "    product_description = input(\"Enter product description: \")\n",
    "    product_price = float(input(\"Enter product price: \"))\n",
    "    product_quantity = int(input(\"Enter product quantity: \"))\n",
    "    inventory[product_name] = {\n",
    "        \"description\":product_description,\n",
    "        \"price\":product_price,\n",
    "        \"quantity\":product_quantity\n",
    "    }\n",
    "    print(\"Product successfully updated!\")\n",
    "  else:\n",
    "    print(\"Product not found!\")"
   ]
  },
  {
   "cell_type": "code",
   "execution_count": 14,
   "id": "b8986a0d",
   "metadata": {},
   "outputs": [],
   "source": [
    "def delete_product():\n",
    "  product_id = int(input(\"Enter product id: \"))\n",
    "  product_name = input(\"Enter product name: \")\n",
    "  if product_id and product_name in inventory:\n",
    "    del inventory[product_name]\n",
    "    print(\"Product deleted successfully!\")\n",
    "  else:\n",
    "    print(\"Product not found\")"
   ]
  },
  {
   "cell_type": "code",
   "execution_count": 20,
   "id": "4dfe2780",
   "metadata": {},
   "outputs": [],
   "source": [
    "def view_inventory():\n",
    "  print(\"Inventory Details: \")\n",
    "  print(\"Product  |  Description  |  Price  |  Quantity\")\n",
    "  for product,details in inventory.items():\n",
    "    print(f\"{product}  |  {details['description']}  |  {details['price']}  |  {details['quantity']}\")"
   ]
  },
  {
   "cell_type": "code",
   "execution_count": 16,
   "id": "d5342d67",
   "metadata": {},
   "outputs": [],
   "source": [
    "def search_product():\n",
    "  product_id = int(input(\"Enter product id: \"))\n",
    "  product_name = input(\"Enter product name: \")\n",
    "  if product_id and product_name in inventory:\n",
    "    print(f\"Product found: {inventory[product_name]['description']}  |  {inventory[product_name]['price']}  |  {inventory[product_name]['quantity']}\")"
   ]
  },
  {
   "cell_type": "code",
   "execution_count": 17,
   "id": "28e70ef5",
   "metadata": {},
   "outputs": [],
   "source": [
    "def generate_report():\n",
    "  print(\"Inventory Report: \")\n",
    "  total_value = 0\n",
    "  print(\"Product  |  Product_ID  |  Description  |  Price  |  Quantity  |  Price*Quantity\")\n",
    "  for product,details in inventory.items():\n",
    "    total_value += details['price'] * details['quantity']\n",
    "    print(f\"{product}  |  {details['id']}  |  {details['description']}  |  {details['price']}  |  {details['quantity']}  |  {details['price'] * details['quantity']}\")\n",
    "  print(f\"Total Value: {total_value}\")"
   ]
  },
  {
   "cell_type": "code",
   "execution_count": 21,
   "id": "198fc333",
   "metadata": {},
   "outputs": [
    {
     "name": "stdout",
     "output_type": "stream",
     "text": [
      "\n",
      "Inventory Management System\n",
      "1. Add Product\n",
      "2. Update Product\n",
      "3. Delete Product\n",
      "4. View Inventory\n",
      "5. Search Product\n",
      "6. Generate Report\n",
      "7. Exit\n",
      "Enter your choice: 1\n",
      "Enter product id: 2\n",
      "Enter product name: wood\n",
      "Enter product description: hard\n",
      "Enter product price: 5000\n",
      "Enter product quantity: 5\n",
      "Product successfully added!\n",
      "Inventory saved successfully!\n",
      "Inventory saved successfully!\n",
      "Inventory saved successfully!\n",
      "\n",
      "Inventory Management System\n",
      "1. Add Product\n",
      "2. Update Product\n",
      "3. Delete Product\n",
      "4. View Inventory\n",
      "5. Search Product\n",
      "6. Generate Report\n",
      "7. Exit\n",
      "Enter your choice: 4\n",
      "Inventory Details: \n",
      "Product  |  Description  |  Price  |  Quantity\n",
      "ice  |  cool  |  40.0  |  4\n",
      "wood  |  hard  |  5000.0  |  5\n",
      "rice  |  white  |  5000.0  |  2555\n",
      "Inventory saved successfully!\n",
      "Inventory saved successfully!\n",
      "Inventory saved successfully!\n",
      "\n",
      "Inventory Management System\n",
      "1. Add Product\n",
      "2. Update Product\n",
      "3. Delete Product\n",
      "4. View Inventory\n",
      "5. Search Product\n",
      "6. Generate Report\n",
      "7. Exit\n",
      "Enter your choice: 5\n",
      "Enter product id: 1\n",
      "Enter product name: ice\n",
      "Product found: cool  |  40.0  |  4\n",
      "Inventory saved successfully!\n",
      "Inventory saved successfully!\n",
      "Inventory saved successfully!\n",
      "\n",
      "Inventory Management System\n",
      "1. Add Product\n",
      "2. Update Product\n",
      "3. Delete Product\n",
      "4. View Inventory\n",
      "5. Search Product\n",
      "6. Generate Report\n",
      "7. Exit\n",
      "Enter your choice: 6\n",
      "Inventory Report: \n",
      "Product  |  Product_ID  |  Description  |  Price  |  Quantity  |  Price*Quantity\n",
      "ice  |  1  |  cool  |  40.0  |  4  |  160.0\n",
      "wood  |  2  |  hard  |  5000.0  |  5  |  25000.0\n",
      "rice  |  3  |  white  |  5000.0  |  2555  |  12775000.0\n",
      "Total Value: 12800160.0\n",
      "Inventory saved successfully!\n",
      "Inventory saved successfully!\n",
      "Inventory saved successfully!\n",
      "\n",
      "Inventory Management System\n",
      "1. Add Product\n",
      "2. Update Product\n",
      "3. Delete Product\n",
      "4. View Inventory\n",
      "5. Search Product\n",
      "6. Generate Report\n",
      "7. Exit\n",
      "Enter your choice: 3\n",
      "Enter product id: 3\n",
      "Enter product name: rice\n",
      "Product deleted successfully!\n",
      "Inventory saved successfully!\n",
      "Inventory saved successfully!\n",
      "\n",
      "Inventory Management System\n",
      "1. Add Product\n",
      "2. Update Product\n",
      "3. Delete Product\n",
      "4. View Inventory\n",
      "5. Search Product\n",
      "6. Generate Report\n",
      "7. Exit\n",
      "Enter your choice: 4\n",
      "Inventory Details: \n",
      "Product  |  Description  |  Price  |  Quantity\n",
      "ice  |  cool  |  40.0  |  4\n",
      "wood  |  hard  |  5000.0  |  5\n",
      "Inventory saved successfully!\n",
      "Inventory saved successfully!\n",
      "\n",
      "Inventory Management System\n",
      "1. Add Product\n",
      "2. Update Product\n",
      "3. Delete Product\n",
      "4. View Inventory\n",
      "5. Search Product\n",
      "6. Generate Report\n",
      "7. Exit\n",
      "Enter your choice: 7\n"
     ]
    }
   ],
   "source": [
    "while True:\n",
    "  print(\"\\nInventory Management System\")\n",
    "  print(\"1. Add Product\")\n",
    "  print(\"2. Update Product\")\n",
    "  print(\"3. Delete Product\")\n",
    "  print(\"4. View Inventory\")\n",
    "  print(\"5. Search Product\")\n",
    "  print(\"6. Generate Report\")\n",
    "  print(\"7. Exit\")\n",
    "  choice = int(input(\"Enter your choice: \"))\n",
    "  if choice == 1:\n",
    "    add_product()\n",
    "  elif choice == 2:\n",
    "    update_product()\n",
    "  elif choice == 3:\n",
    "    delete_product()\n",
    "  elif choice == 4:\n",
    "    view_inventory()\n",
    "  elif choice == 5:\n",
    "    search_product()\n",
    "  elif choice == 6:\n",
    "    generate_report()\n",
    "  elif choice == 7:\n",
    "    break\n",
    "  else:\n",
    "    print(\"Invalid choice. Please choose a valid option.\")\n",
    "\n",
    "\n",
    "  # save inventory data\n",
    "  try:\n",
    "    with open(\"inventory.txt\", \"w\") as file:\n",
    "      for product, details in inventory.items():\n",
    "        file.write(f\"\\n{product}: {details['id']} | {details['description']} | {details['price']} | {details['quantity']}\")\n",
    "        print(\"Inventory saved successfully!\")\n",
    "  except PermissionError:\n",
    "    print(\"Error: You don't have permission to write to the inventory file.\")\n",
    "  except Exception as e:\n",
    "    print(f\"An unexpected error occurred while saving the inventory: {e}\")"
   ]
  }
 ],
 "metadata": {
  "kernelspec": {
   "display_name": "Python 3",
   "language": "python",
   "name": "python3"
  },
  "language_info": {
   "codemirror_mode": {
    "name": "ipython",
    "version": 3
   },
   "file_extension": ".py",
   "mimetype": "text/x-python",
   "name": "python",
   "nbconvert_exporter": "python",
   "pygments_lexer": "ipython3",
   "version": "3.8.8"
  }
 },
 "nbformat": 4,
 "nbformat_minor": 5
}
