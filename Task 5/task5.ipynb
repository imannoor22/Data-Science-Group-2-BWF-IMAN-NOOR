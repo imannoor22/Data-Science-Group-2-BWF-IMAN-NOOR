{
 "cells": [
  {
   "cell_type": "markdown",
   "id": "c0efc2b0",
   "metadata": {},
   "source": [
    "## If Condition and While Loop"
   ]
  },
  {
   "cell_type": "markdown",
   "id": "797db90b",
   "metadata": {},
   "source": [
    "### **Guessing Game:**"
   ]
  },
  {
   "cell_type": "code",
   "execution_count": 1,
   "id": "b5f1c87b",
   "metadata": {},
   "outputs": [
    {
     "name": "stdout",
     "output_type": "stream",
     "text": [
      "Enter guess number between 1 to 100: 60\n",
      "Guessed number is low, Try again!\n"
     ]
    }
   ],
   "source": [
    "import random\n",
    "secret_number = random.randint(1, 100)\n",
    "while True:\n",
    "    guess_number = int(input(\"Enter guess number between 1 to 100: \"))\n",
    "    if guess_number == secret_number:\n",
    "        print(\"Congratulations! The guessed number is right.\")\n",
    "        break\n",
    "    elif guess_number < secret_number:\n",
    "        print(\"Guessed number is low, Try again!\")\n",
    "        break\n",
    "    else:\n",
    "        print(\"Guessed number is low, Try again!\")\n",
    "        break"
   ]
  },
  {
   "cell_type": "markdown",
   "id": "bfdc222e",
   "metadata": {},
   "source": [
    "### **Even or Odd**"
   ]
  },
  {
   "cell_type": "code",
   "execution_count": 2,
   "id": "8b985393",
   "metadata": {},
   "outputs": [
    {
     "name": "stdout",
     "output_type": "stream",
     "text": [
      "Enter your number: 60\n",
      "Even Number!\n"
     ]
    }
   ],
   "source": [
    "a = int(input(\"Enter your number: \"))\n",
    "if a % 2 == 0:\n",
    "    print(\"Even Number!\")\n",
    "else:\n",
    "    print(\"Odd Number!\")"
   ]
  },
  {
   "cell_type": "markdown",
   "id": "b119c586",
   "metadata": {},
   "source": [
    "## **FOR and WHILE Loop**"
   ]
  },
  {
   "cell_type": "markdown",
   "id": "123f8517",
   "metadata": {},
   "source": [
    "### **List of fruits**"
   ]
  },
  {
   "cell_type": "code",
   "execution_count": 3,
   "id": "62b1cc20",
   "metadata": {},
   "outputs": [
    {
     "name": "stdout",
     "output_type": "stream",
     "text": [
      "apple\n",
      "banana\n",
      "cherry\n"
     ]
    }
   ],
   "source": [
    "fruits = [\"apple\", \"banana\", \"cherry\"]\n",
    "for x in fruits:\n",
    "    print(x)"
   ]
  },
  {
   "cell_type": "markdown",
   "id": "e439c805",
   "metadata": {},
   "source": [
    "### **Printing each character**"
   ]
  },
  {
   "cell_type": "code",
   "execution_count": 4,
   "id": "7140e4ef",
   "metadata": {},
   "outputs": [
    {
     "name": "stdout",
     "output_type": "stream",
     "text": [
      "H\n",
      "e\n",
      "l\n",
      "l\n",
      "o\n",
      " \n",
      "B\n",
      "y\n",
      "t\n",
      "e\n",
      "w\n",
      "i\n",
      "s\n",
      "e\n",
      "!\n"
     ]
    }
   ],
   "source": [
    "my_string = \"Hello Bytewise!\"\n",
    "for char in my_string:\n",
    "    print(char)"
   ]
  },
  {
   "cell_type": "markdown",
   "id": "9b537b45",
   "metadata": {},
   "source": [
    "### **Counting up**"
   ]
  },
  {
   "cell_type": "code",
   "execution_count": 5,
   "id": "0a2eaafe",
   "metadata": {},
   "outputs": [
    {
     "name": "stdout",
     "output_type": "stream",
     "text": [
      "1\n",
      "2\n",
      "3\n",
      "4\n",
      "5\n",
      "6\n",
      "7\n",
      "8\n",
      "9\n",
      "10\n"
     ]
    }
   ],
   "source": [
    "i = 1\n",
    "while i <= 10:\n",
    "    print(i)\n",
    "    i += 1"
   ]
  },
  {
   "cell_type": "markdown",
   "id": "346bea2f",
   "metadata": {},
   "source": [
    "## **Functions**"
   ]
  },
  {
   "cell_type": "markdown",
   "id": "c5513a16",
   "metadata": {},
   "source": [
    "### **Greeting function:**"
   ]
  },
  {
   "cell_type": "code",
   "execution_count": 6,
   "id": "e68586fe",
   "metadata": {},
   "outputs": [
    {
     "name": "stdout",
     "output_type": "stream",
     "text": [
      "Enter your name: Iman\n",
      "Hello Iman!\n"
     ]
    }
   ],
   "source": [
    "def greet(name):\n",
    "    print(f\"Hello {name}!\")\n",
    "\n",
    "name = input(\"Enter your name: \")\n",
    "greet(name)"
   ]
  },
  {
   "cell_type": "markdown",
   "id": "bbb326d0",
   "metadata": {},
   "source": [
    "### **Addition function:**"
   ]
  },
  {
   "cell_type": "code",
   "execution_count": 7,
   "id": "9a883d9f",
   "metadata": {},
   "outputs": [
    {
     "name": "stdout",
     "output_type": "stream",
     "text": [
      "Addition of two numbers: 7\n"
     ]
    }
   ],
   "source": [
    "def add_function(a, b):\n",
    "    return a + b\n",
    "\n",
    "result = add_function(3, 4)\n",
    "print(f\"Addition of two numbers: {result}\")"
   ]
  },
  {
   "cell_type": "markdown",
   "id": "c73a54f4",
   "metadata": {},
   "source": [
    "### **Function with multiple arguments**"
   ]
  },
  {
   "cell_type": "code",
   "execution_count": 8,
   "id": "f8844f7d",
   "metadata": {},
   "outputs": [
    {
     "name": "stdout",
     "output_type": "stream",
     "text": [
      "Iman\n",
      "Noreen\n",
      "Eman\n"
     ]
    }
   ],
   "source": [
    "def multiple_args(*args):\n",
    "    for arg in args:\n",
    "        print(arg)\n",
    "\n",
    "multiple_args(\"Iman\", \"Noreen\", \"Eman\")"
   ]
  },
  {
   "cell_type": "code",
   "execution_count": 9,
   "id": "638081a8",
   "metadata": {},
   "outputs": [
    {
     "name": "stdout",
     "output_type": "stream",
     "text": [
      "name: Iman\n",
      "age: 21\n",
      "city: Fsd\n"
     ]
    }
   ],
   "source": [
    "def print_keyword_args(**kwargs):\n",
    "    for key, value in kwargs.items():\n",
    "        print(f\"{key}: {value}\")\n",
    "\n",
    "print_keyword_args(name=\"Iman\", age=21, city=\"Fsd\")"
   ]
  },
  {
   "cell_type": "markdown",
   "id": "7d3e2345",
   "metadata": {},
   "source": [
    "## **Patterns using FOR Loop**"
   ]
  },
  {
   "cell_type": "code",
   "execution_count": 10,
   "id": "2c4d16b1",
   "metadata": {},
   "outputs": [
    {
     "name": "stdout",
     "output_type": "stream",
     "text": [
      "* \n",
      "* * \n",
      "* * * \n",
      "* * * * \n",
      "* * * * * \n"
     ]
    }
   ],
   "source": [
    "n=5\n",
    "for i in range(0, n):\n",
    "    for j in range(i+1): \n",
    "        print(\"*\", end=\" \") # end=\" \": to print multiple items on the same line\n",
    "    print()"
   ]
  },
  {
   "cell_type": "code",
   "execution_count": 11,
   "id": "43bc2054",
   "metadata": {},
   "outputs": [
    {
     "name": "stdout",
     "output_type": "stream",
     "text": [
      "1 \n",
      "2 3 \n",
      "4 5 6 \n",
      "7 8 9 10 \n",
      "11 12 13 14 15 \n"
     ]
    }
   ],
   "source": [
    "n=5\n",
    "k=1\n",
    "for i in range(0, n):\n",
    "    for j in range(0, i+1): \n",
    "        print(k , end=\" \") \n",
    "        k+=1\n",
    "    print()\n",
    "        \n",
    "# print()"
   ]
  },
  {
   "cell_type": "code",
   "execution_count": 12,
   "id": "761a4221",
   "metadata": {},
   "outputs": [
    {
     "name": "stdout",
     "output_type": "stream",
     "text": [
      "      * \n",
      "     * * \n",
      "    * * * \n",
      "   * * * * \n",
      "  * * * * * \n"
     ]
    }
   ],
   "source": [
    "n=5\n",
    "for i in range(0, n):\n",
    "    print(\" \" * (n-i), end=\" \") # determines the number of spaces printed before the stars on each line\n",
    "    for j in range(i+1): \n",
    "        print(\"*\", end=\" \") \n",
    "    print()"
   ]
  },
  {
   "cell_type": "code",
   "execution_count": 13,
   "id": "7e8d33dd",
   "metadata": {},
   "outputs": [
    {
     "name": "stdout",
     "output_type": "stream",
     "text": [
      "      A \n",
      "     A B \n",
      "    A B C \n",
      "   A B C D \n",
      "  A B C D E \n"
     ]
    }
   ],
   "source": [
    "n=5\n",
    "alpha=65\n",
    "for i in range(0, n):\n",
    "    print(\" \" * (n-i), end=\" \")\n",
    "    for j in range(i+1): \n",
    "        print(chr(alpha), end=\" \") # \"chr\" : to get the character represented by an ASCII value\n",
    "        alpha+=1\n",
    "    alpha=65\n",
    "    print()"
   ]
  },
  {
   "cell_type": "code",
   "execution_count": 14,
   "id": "9058e22e",
   "metadata": {},
   "outputs": [
    {
     "name": "stdout",
     "output_type": "stream",
     "text": [
      "  * * * * * \n",
      "   * * * * \n",
      "    * * * \n",
      "     * * \n",
      "      * \n"
     ]
    }
   ],
   "source": [
    "n=5\n",
    "for i in range(0, n):\n",
    "    print(\" \" * (i+1), end=\" \") # determines the number of spaces printed before the stars on each line\n",
    "    for j in range(n-i): \n",
    "        print(\"*\", end=\" \") \n",
    "    print()"
   ]
  },
  {
   "cell_type": "code",
   "execution_count": 15,
   "id": "37dae91c",
   "metadata": {},
   "outputs": [
    {
     "name": "stdout",
     "output_type": "stream",
     "text": [
      "1 \n",
      "3 5 \n",
      "7 9 11 \n",
      "13 15 17 19 \n",
      "21 23 25 27 29 \n"
     ]
    }
   ],
   "source": [
    "n=5\n",
    "k=1\n",
    "for i in range(0, n):\n",
    "    for j in range(0, i+1): \n",
    "        print(k , end=\" \") \n",
    "        k+=2\n",
    "    print()"
   ]
  },
  {
   "cell_type": "code",
   "execution_count": 16,
   "id": "1a0a33fd",
   "metadata": {},
   "outputs": [
    {
     "name": "stdout",
     "output_type": "stream",
     "text": [
      "* * * * * \n",
      "* * * * \n",
      "* * * \n",
      "* * \n",
      "* \n",
      "\n"
     ]
    }
   ],
   "source": [
    "k = 5\n",
    "for i in range(0, k+1):\n",
    "    for j in range(k-i, 0, -1):\n",
    "        print(\"*\", end=\" \")\n",
    "    print()"
   ]
  },
  {
   "cell_type": "markdown",
   "id": "16ba6e5f",
   "metadata": {},
   "source": [
    "# **Mini Project**"
   ]
  },
  {
   "cell_type": "markdown",
   "id": "5f9cd19e",
   "metadata": {},
   "source": [
    "# **TO-DO LIST APP**\n",
    "\n",
    "A simple to-do list app that allows users to add, remove, mark tasks as completed and display tasks"
   ]
  },
  {
   "cell_type": "markdown",
   "id": "729385bc",
   "metadata": {},
   "source": [
    "### **Library Initialization:**\n",
    "\n",
    "- Initialize an empty list named `todo_list` to store task information.\n",
    "\n",
    "### **Function Definitions:**\n",
    "\n",
    "- **add_task(task):** Adds a new task to the tasks list.\n",
    "- **remove_task(task):** Removes a specified task from the tasks list.\n",
    "- **mark_task_completed(task):** Marks a specified task as completed.\n",
    "- **display_tasks():** Displays the list of all tasks and their status.\n",
    "\n",
    "### **User Interaction:**\n",
    "\n",
    "- The `todo_app(task)` function provides options to add, remove, mark, display tasks, or quit the system.\n",
    "- User inputs are validated to ensure they are correct and appropriate actions are taken based on choices."
   ]
  },
  {
   "cell_type": "code",
   "execution_count": 17,
   "id": "52a2910e",
   "metadata": {},
   "outputs": [],
   "source": [
    "todo_list = []"
   ]
  },
  {
   "cell_type": "code",
   "execution_count": 18,
   "id": "de440f68",
   "metadata": {},
   "outputs": [],
   "source": [
    "def add_task(task):\n",
    "    todo_list.append(task)\n",
    "    print(\"Task successfully added!\")"
   ]
  },
  {
   "cell_type": "code",
   "execution_count": 19,
   "id": "cc6fb665",
   "metadata": {},
   "outputs": [],
   "source": [
    "def remove_task(task):\n",
    "    if task in todo_list:\n",
    "        todo_list.remove(task)\n",
    "        print(\"Task successfully removed!\")\n",
    "    else:\n",
    "        print(\"Task not found!\")"
   ]
  },
  {
   "cell_type": "code",
   "execution_count": 20,
   "id": "7687a952",
   "metadata": {},
   "outputs": [],
   "source": [
    "def mark_task_completed(task):\n",
    "    if task in todo_list:\n",
    "        todo_list.remove(task)\n",
    "        print(f\"Task {task} successfully marked as completed!\")\n",
    "    else:\n",
    "        print(\"Task not found!\")"
   ]
  },
  {
   "cell_type": "code",
   "execution_count": 21,
   "id": "37bad703",
   "metadata": {},
   "outputs": [],
   "source": [
    "def display_tasks():\n",
    "    if len(todo_list) == 0:\n",
    "        print(\"No tasks to display!\")\n",
    "    else:\n",
    "        print(\"Tasks:\")\n",
    "        for task in todo_list:\n",
    "            print(task)"
   ]
  },
  {
   "cell_type": "code",
   "execution_count": 24,
   "id": "24efb980",
   "metadata": {},
   "outputs": [],
   "source": [
    "def todo_app(todo_list):\n",
    "  while True:\n",
    "    print(\"\\nMENU: \")\n",
    "    print(\"1. Add Task\")\n",
    "    print(\"2. Remove Task\")\n",
    "    print(\"3. Mark task as completed\")\n",
    "    print(\"4. Display Tasks\")\n",
    "    print(\"5. Quit\")\n",
    "\n",
    "    choice = int(input(\"Enter your choice: \"))\n",
    "\n",
    "    if choice == 1:\n",
    "      task = input(\"Enter the task to add: \")\n",
    "      add_task(task)\n",
    "\n",
    "    elif choice == 2:\n",
    "      task = input(\"Enter the task to remove: \")\n",
    "      remove_task(task)\n",
    "\n",
    "    elif choice == 3:\n",
    "      task = input(\"Enter the task to mark as completed: \")\n",
    "      mark_task_completed(task)\n",
    "\n",
    "    elif choice == 4:\n",
    "      display_tasks()\n",
    "    \n",
    "    else:\n",
    "      print(f\"Invalid choice. Please try again.\")\n",
    "      break"
   ]
  },
  {
   "cell_type": "code",
   "execution_count": 26,
   "id": "71b0c58f",
   "metadata": {},
   "outputs": [
    {
     "name": "stdout",
     "output_type": "stream",
     "text": [
      "\n",
      "MENU: \n",
      "1. Add Task\n",
      "2. Remove Task\n",
      "3. Mark task as completed\n",
      "4. Display Tasks\n",
      "5. Quit\n",
      "Enter your choice: 1\n",
      "Enter the task to add: CC 1\n",
      "Task successfully added!\n",
      "\n",
      "MENU: \n",
      "1. Add Task\n",
      "2. Remove Task\n",
      "3. Mark task as completed\n",
      "4. Display Tasks\n",
      "5. Quit\n",
      "Enter your choice: 1\n",
      "Enter the task to add: PDP 2\n",
      "Task successfully added!\n",
      "\n",
      "MENU: \n",
      "1. Add Task\n",
      "2. Remove Task\n",
      "3. Mark task as completed\n",
      "4. Display Tasks\n",
      "5. Quit\n",
      "Enter your choice: 1\n",
      "Enter the task to add: CI 3\n",
      "Task successfully added!\n",
      "\n",
      "MENU: \n",
      "1. Add Task\n",
      "2. Remove Task\n",
      "3. Mark task as completed\n",
      "4. Display Tasks\n",
      "5. Quit\n",
      "Enter your choice: 4\n",
      "Tasks:\n",
      "CC Assignment 1\n",
      "PDP A2\n",
      "CC 1\n",
      "PDP 2\n",
      "CI 3\n",
      "\n",
      "MENU: \n",
      "1. Add Task\n",
      "2. Remove Task\n",
      "3. Mark task as completed\n",
      "4. Display Tasks\n",
      "5. Quit\n",
      "Enter your choice: 2\n",
      "Enter the task to remove: CC 1\n",
      "Task successfully removed!\n",
      "\n",
      "MENU: \n",
      "1. Add Task\n",
      "2. Remove Task\n",
      "3. Mark task as completed\n",
      "4. Display Tasks\n",
      "5. Quit\n",
      "Enter your choice: 3\n",
      "Enter the task to mark as completed: PDP 2\n",
      "Task PDP 2 successfully marked as completed!\n",
      "\n",
      "MENU: \n",
      "1. Add Task\n",
      "2. Remove Task\n",
      "3. Mark task as completed\n",
      "4. Display Tasks\n",
      "5. Quit\n",
      "Enter your choice: 4\n",
      "Tasks:\n",
      "CC Assignment 1\n",
      "PDP A2\n",
      "CI 3\n",
      "\n",
      "MENU: \n",
      "1. Add Task\n",
      "2. Remove Task\n",
      "3. Mark task as completed\n",
      "4. Display Tasks\n",
      "5. Quit\n",
      "Enter your choice: 5\n",
      "Invalid choice. Please try again.\n",
      "Have a great time!\n"
     ]
    }
   ],
   "source": [
    "if __name__ == \"__main__\":\n",
    "    todo_app(todo_list)\n",
    "    print(\"Have a great time!\")"
   ]
  }
 ],
 "metadata": {
  "kernelspec": {
   "display_name": "Python 3",
   "language": "python",
   "name": "python3"
  },
  "language_info": {
   "codemirror_mode": {
    "name": "ipython",
    "version": 3
   },
   "file_extension": ".py",
   "mimetype": "text/x-python",
   "name": "python",
   "nbconvert_exporter": "python",
   "pygments_lexer": "ipython3",
   "version": "3.8.8"
  }
 },
 "nbformat": 4,
 "nbformat_minor": 5
}
