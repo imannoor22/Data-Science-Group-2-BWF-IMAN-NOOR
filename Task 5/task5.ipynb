{
 "cells": [
  {
   "cell_type": "code",
   "execution_count": 1,
   "id": "e329d665",
   "metadata": {},
   "outputs": [
    {
     "name": "stdout",
     "output_type": "stream",
     "text": [
      "* \n",
      "* * \n",
      "* * * \n",
      "* * * * \n",
      "* * * * * \n"
     ]
    }
   ],
   "source": [
    "n=5\n",
    "for i in range(0, n):\n",
    "    for j in range(i+1): \n",
    "        print(\"*\", end=\" \") # end=\" \": to print multiple items on the same line\n",
    "    print()"
   ]
  },
  {
   "cell_type": "code",
   "execution_count": 2,
   "id": "2a6f4ed3",
   "metadata": {},
   "outputs": [
    {
     "name": "stdout",
     "output_type": "stream",
     "text": [
      "1 \n",
      "2 3 \n",
      "4 5 6 \n",
      "7 8 9 10 \n",
      "11 12 13 14 15 \n"
     ]
    }
   ],
   "source": [
    "n=5\n",
    "k=1\n",
    "for i in range(0, n):\n",
    "    for j in range(0, i+1): \n",
    "        print(k , end=\" \") \n",
    "        k+=1\n",
    "    print()\n",
    "        \n",
    "# print()"
   ]
  },
  {
   "cell_type": "code",
   "execution_count": 3,
   "id": "0fe9c042",
   "metadata": {},
   "outputs": [
    {
     "name": "stdout",
     "output_type": "stream",
     "text": [
      "      * \n",
      "     * * \n",
      "    * * * \n",
      "   * * * * \n",
      "  * * * * * \n"
     ]
    }
   ],
   "source": [
    "n=5\n",
    "for i in range(0, n):\n",
    "    print(\" \" * (n-i), end=\" \") # determines the number of spaces printed before the stars on each line\n",
    "    for j in range(i+1): \n",
    "        print(\"*\", end=\" \") \n",
    "    print()"
   ]
  },
  {
   "cell_type": "code",
   "execution_count": 4,
   "id": "b4fd9b00",
   "metadata": {},
   "outputs": [
    {
     "name": "stdout",
     "output_type": "stream",
     "text": [
      "      A \n",
      "     A B \n",
      "    A B C \n",
      "   A B C D \n",
      "  A B C D E \n"
     ]
    }
   ],
   "source": [
    "n=5\n",
    "alpha=65\n",
    "for i in range(0, n):\n",
    "    print(\" \" * (n-i), end=\" \")\n",
    "    for j in range(i+1): \n",
    "        print(chr(alpha), end=\" \") # \"chr\" : to get the character represented by an ASCII value\n",
    "        alpha+=1\n",
    "    alpha=65\n",
    "    print()"
   ]
  },
  {
   "cell_type": "code",
   "execution_count": 5,
   "id": "2976240b",
   "metadata": {},
   "outputs": [
    {
     "name": "stdout",
     "output_type": "stream",
     "text": [
      "  * * * * * \n",
      "   * * * * \n",
      "    * * * \n",
      "     * * \n",
      "      * \n"
     ]
    }
   ],
   "source": [
    "n=5\n",
    "for i in range(0, n):\n",
    "    print(\" \" * (i+1), end=\" \") # determines the number of spaces printed before the stars on each line\n",
    "    for j in range(n-i): \n",
    "        print(\"*\", end=\" \") \n",
    "    print()"
   ]
  },
  {
   "cell_type": "code",
   "execution_count": 6,
   "id": "56be8368",
   "metadata": {},
   "outputs": [
    {
     "name": "stdout",
     "output_type": "stream",
     "text": [
      "1 \n",
      "3 5 \n",
      "7 9 11 \n",
      "13 15 17 19 \n",
      "21 23 25 27 29 \n"
     ]
    }
   ],
   "source": [
    "n=5\n",
    "k=1\n",
    "for i in range(0, n):\n",
    "    for j in range(0, i+1): \n",
    "        print(k , end=\" \") \n",
    "        k+=2\n",
    "    print()"
   ]
  },
  {
   "cell_type": "code",
   "execution_count": 7,
   "id": "3e20bf0f",
   "metadata": {},
   "outputs": [
    {
     "name": "stdout",
     "output_type": "stream",
     "text": [
      "* * * * * \n",
      "* * * * \n",
      "* * * \n",
      "* * \n",
      "* \n",
      "\n"
     ]
    }
   ],
   "source": [
    "k = 5\n",
    "for i in range(0, k+1):\n",
    "    for j in range(k-i, 0, -1):\n",
    "        print(\"*\", end=\" \")\n",
    "    print()"
   ]
  }
 ],
 "metadata": {
  "kernelspec": {
   "display_name": "Python 3",
   "language": "python",
   "name": "python3"
  },
  "language_info": {
   "codemirror_mode": {
    "name": "ipython",
    "version": 3
   },
   "file_extension": ".py",
   "mimetype": "text/x-python",
   "name": "python",
   "nbconvert_exporter": "python",
   "pygments_lexer": "ipython3",
   "version": "3.8.8"
  }
 },
 "nbformat": 4,
 "nbformat_minor": 5
}
